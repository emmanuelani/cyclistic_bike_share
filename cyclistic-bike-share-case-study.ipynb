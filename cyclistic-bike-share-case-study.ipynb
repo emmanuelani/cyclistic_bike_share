{
 "cells": [
  {
   "cell_type": "markdown",
   "id": "70977046",
   "metadata": {
    "papermill": {
     "duration": 0.135321,
     "end_time": "2022-04-08T16:58:25.975347",
     "exception": false,
     "start_time": "2022-04-08T16:58:25.840026",
     "status": "completed"
    },
    "tags": []
   },
   "source": [
    "# Cyclistic Bike Share - Case Study\n",
    "\n",
    "## Introduction\n",
    "\n",
    "In this case study. I'll be working with a fictional company called Cyclistic as a Junior Data Analyst. Cyclistic is a bike sharing company in Chicago. They offer a bike share program that features more than 5800 bikes and 600 docking stations. \n",
    "\n",
    "Cyclistic sets itself apart by also offering reclining bikes, hand tricycles, and cargo bikes, making bike-share more inclusive to people with disabilities and riders who can’t use a standard two-wheeled bike. The majority of riders opt for traditional bikes; about 8% of riders use the assistive options. Cyclistic users are more likely to ride for leisure, but about 30% use them to commute to work each day.\n",
    "\n",
    "The business task here is to understand how casual riders and annual members use Cyclistic bikes differently which will be used to design a new marketing strategy to convert casual riders into annual members.\n",
    "\n",
    "As a Junior Data Analyst, I have been assigned the task of understanding how annual members and casual riders differ which would guide the marketing strategy team in converting casual riders to annual members.\n",
    "\n",
    "\n",
    "## PHASE 1 - Ask\n",
    "\n",
    "Identify the Business Task\n",
    "\n",
    "In this phase, I will need to understand the business question or the problem the company is trying to solve and how my analysis can help drive the business decision.\n",
    "In this instance, the business task is to know how casual and member riders use Cyclistic differently. The insights gotten from this can be used in marketing strategy to convert casual riders to annual members.\n",
    "\n",
    "Consider Key Stakeholders\n",
    "\n",
    "In this case study, I'll be working with a few stakeholders:\n",
    "* Lily Moreno: She is my manager and the director of marketing. She is responsible for the development of campaigns and initiative to promote the bike share program.\n",
    "* Cyclistic Executive team: They will be responsible on deciding whether to approve the recommended marketing program.\n",
    "* Cyclistic marketing analytics team: They are a team of data analysts who are responsible for collecting, analyzing, and reporting data that helps guide Cyclistic marketing strategy.\n",
    "\n",
    "\n",
    "## PHASE 2 - Prepare\n",
    "\n",
    "In this phase, I'll be loading the datasets that will be used for the analysis.\n",
    "The datasets were gotten from this source [link](https://divvy-tripdata.s3.amazonaws.com/index.html)\n",
    "\n",
    "Before working with the datasets, I had to load some libraries that would be used in the analysis. The libraries are Tidyverse for data analysis, readr for loading the datasets, ggplot2 for visualization and lubridate package for working with dates."
   ]
  },
  {
   "cell_type": "markdown",
   "id": "4c998efd",
   "metadata": {
    "papermill": {
     "duration": 0.122079,
     "end_time": "2022-04-08T16:58:26.220233",
     "exception": false,
     "start_time": "2022-04-08T16:58:26.098154",
     "status": "completed"
    },
    "tags": []
   },
   "source": [
    "### Loading Packages\n",
    "Loading the necessary libraries"
   ]
  },
  {
   "cell_type": "code",
   "execution_count": 1,
   "id": "9d25b797",
   "metadata": {
    "execution": {
     "iopub.execute_input": "2022-04-08T16:58:26.470069Z",
     "iopub.status.busy": "2022-04-08T16:58:26.467369Z",
     "iopub.status.idle": "2022-04-08T16:58:27.899988Z",
     "shell.execute_reply": "2022-04-08T16:58:27.898265Z"
    },
    "papermill": {
     "duration": 1.559026,
     "end_time": "2022-04-08T16:58:27.900171",
     "exception": false,
     "start_time": "2022-04-08T16:58:26.341145",
     "status": "completed"
    },
    "tags": []
   },
   "outputs": [
    {
     "name": "stderr",
     "output_type": "stream",
     "text": [
      "── \u001b[1mAttaching packages\u001b[22m ─────────────────────────────────────── tidyverse 1.3.1 ──\n",
      "\n",
      "\u001b[32m✔\u001b[39m \u001b[34mggplot2\u001b[39m 3.3.5     \u001b[32m✔\u001b[39m \u001b[34mpurrr  \u001b[39m 0.3.4\n",
      "\u001b[32m✔\u001b[39m \u001b[34mtibble \u001b[39m 3.1.5     \u001b[32m✔\u001b[39m \u001b[34mdplyr  \u001b[39m 1.0.7\n",
      "\u001b[32m✔\u001b[39m \u001b[34mtidyr  \u001b[39m 1.1.4     \u001b[32m✔\u001b[39m \u001b[34mstringr\u001b[39m 1.4.0\n",
      "\u001b[32m✔\u001b[39m \u001b[34mreadr  \u001b[39m 2.0.2     \u001b[32m✔\u001b[39m \u001b[34mforcats\u001b[39m 0.5.1\n",
      "\n",
      "── \u001b[1mConflicts\u001b[22m ────────────────────────────────────────── tidyverse_conflicts() ──\n",
      "\u001b[31m✖\u001b[39m \u001b[34mdplyr\u001b[39m::\u001b[32mfilter()\u001b[39m masks \u001b[34mstats\u001b[39m::filter()\n",
      "\u001b[31m✖\u001b[39m \u001b[34mdplyr\u001b[39m::\u001b[32mlag()\u001b[39m    masks \u001b[34mstats\u001b[39m::lag()\n",
      "\n",
      "\n",
      "Attaching package: ‘lubridate’\n",
      "\n",
      "\n",
      "The following objects are masked from ‘package:base’:\n",
      "\n",
      "    date, intersect, setdiff, union\n",
      "\n",
      "\n"
     ]
    }
   ],
   "source": [
    "library(tidyverse)\n",
    "library(readr)\n",
    "library(ggplot2)\n",
    "library(lubridate)"
   ]
  },
  {
   "cell_type": "markdown",
   "id": "2c2fb416",
   "metadata": {
    "papermill": {
     "duration": 0.128425,
     "end_time": "2022-04-08T16:58:28.159573",
     "exception": false,
     "start_time": "2022-04-08T16:58:28.031148",
     "status": "completed"
    },
    "tags": []
   },
   "source": [
    "## Importing and preparing the data\n",
    "In other to work with the datasets, I'll have to import each of them individually using the read_csv function."
   ]
  },
  {
   "cell_type": "code",
   "execution_count": 2,
   "id": "3d522301",
   "metadata": {
    "execution": {
     "iopub.execute_input": "2022-04-08T16:58:28.474713Z",
     "iopub.status.busy": "2022-04-08T16:58:28.439585Z",
     "iopub.status.idle": "2022-04-08T16:59:23.945819Z",
     "shell.execute_reply": "2022-04-08T16:59:23.943770Z"
    },
    "papermill": {
     "duration": 55.657528,
     "end_time": "2022-04-08T16:59:23.946051",
     "exception": false,
     "start_time": "2022-04-08T16:58:28.288523",
     "status": "completed"
    },
    "tags": []
   },
   "outputs": [
    {
     "name": "stderr",
     "output_type": "stream",
     "text": [
      "\u001b[1m\u001b[1mRows: \u001b[1m\u001b[22m\u001b[34m\u001b[34m131573\u001b[34m\u001b[39m \u001b[1m\u001b[1mColumns: \u001b[1m\u001b[22m\u001b[34m\u001b[34m13\u001b[34m\u001b[39m\n",
      "\n",
      "\u001b[36m──\u001b[39m \u001b[1m\u001b[1mColumn specification\u001b[1m\u001b[22m \u001b[36m────────────────────────────────────────────────────────\u001b[39m\n",
      "\u001b[1mDelimiter:\u001b[22m \",\"\n",
      "\u001b[31mchr\u001b[39m  (7): ride_id, rideable_type, start_station_name, start_station_id, end_...\n",
      "\u001b[32mdbl\u001b[39m  (4): start_lat, start_lng, end_lat, end_lng\n",
      "\u001b[34mdttm\u001b[39m (2): started_at, ended_at\n",
      "\n",
      "\n",
      "\u001b[36mℹ\u001b[39m Use \u001b[30m\u001b[47m\u001b[30m\u001b[47m`spec()`\u001b[47m\u001b[30m\u001b[49m\u001b[39m to retrieve the full column specification for this data.\n",
      "\u001b[36mℹ\u001b[39m Specify the column types or set \u001b[30m\u001b[47m\u001b[30m\u001b[47m`show_col_types = FALSE`\u001b[47m\u001b[30m\u001b[49m\u001b[39m to quiet this message.\n",
      "\n",
      "\u001b[1m\u001b[1mRows: \u001b[1m\u001b[22m\u001b[34m\u001b[34m49622\u001b[34m\u001b[39m \u001b[1m\u001b[1mColumns: \u001b[1m\u001b[22m\u001b[34m\u001b[34m13\u001b[34m\u001b[39m\n",
      "\n",
      "\u001b[36m──\u001b[39m \u001b[1m\u001b[1mColumn specification\u001b[1m\u001b[22m \u001b[36m────────────────────────────────────────────────────────\u001b[39m\n",
      "\u001b[1mDelimiter:\u001b[22m \",\"\n",
      "\u001b[31mchr\u001b[39m  (7): ride_id, rideable_type, start_station_name, start_station_id, end_...\n",
      "\u001b[32mdbl\u001b[39m  (4): start_lat, start_lng, end_lat, end_lng\n",
      "\u001b[34mdttm\u001b[39m (2): started_at, ended_at\n",
      "\n",
      "\n",
      "\u001b[36mℹ\u001b[39m Use \u001b[30m\u001b[47m\u001b[30m\u001b[47m`spec()`\u001b[47m\u001b[30m\u001b[49m\u001b[39m to retrieve the full column specification for this data.\n",
      "\u001b[36mℹ\u001b[39m Specify the column types or set \u001b[30m\u001b[47m\u001b[30m\u001b[47m`show_col_types = FALSE`\u001b[47m\u001b[30m\u001b[49m\u001b[39m to quiet this message.\n",
      "\n",
      "\u001b[1m\u001b[1mRows: \u001b[1m\u001b[22m\u001b[34m\u001b[34m337230\u001b[34m\u001b[39m \u001b[1m\u001b[1mColumns: \u001b[1m\u001b[22m\u001b[34m\u001b[34m13\u001b[34m\u001b[39m\n",
      "\n",
      "\u001b[36m──\u001b[39m \u001b[1m\u001b[1mColumn specification\u001b[1m\u001b[22m \u001b[36m────────────────────────────────────────────────────────\u001b[39m\n",
      "\u001b[1mDelimiter:\u001b[22m \",\"\n",
      "\u001b[31mchr\u001b[39m  (7): ride_id, rideable_type, start_station_name, start_station_id, end_...\n",
      "\u001b[32mdbl\u001b[39m  (4): start_lat, start_lng, end_lat, end_lng\n",
      "\u001b[34mdttm\u001b[39m (2): started_at, ended_at\n",
      "\n",
      "\n",
      "\u001b[36mℹ\u001b[39m Use \u001b[30m\u001b[47m\u001b[30m\u001b[47m`spec()`\u001b[47m\u001b[30m\u001b[49m\u001b[39m to retrieve the full column specification for this data.\n",
      "\u001b[36mℹ\u001b[39m Specify the column types or set \u001b[30m\u001b[47m\u001b[30m\u001b[47m`show_col_types = FALSE`\u001b[47m\u001b[30m\u001b[49m\u001b[39m to quiet this message.\n",
      "\n",
      "\u001b[1m\u001b[1mRows: \u001b[1m\u001b[22m\u001b[34m\u001b[34m729595\u001b[34m\u001b[39m \u001b[1m\u001b[1mColumns: \u001b[1m\u001b[22m\u001b[34m\u001b[34m13\u001b[34m\u001b[39m\n",
      "\n",
      "\u001b[36m──\u001b[39m \u001b[1m\u001b[1mColumn specification\u001b[1m\u001b[22m \u001b[36m────────────────────────────────────────────────────────\u001b[39m\n",
      "\u001b[1mDelimiter:\u001b[22m \",\"\n",
      "\u001b[31mchr\u001b[39m  (7): ride_id, rideable_type, start_station_name, start_station_id, end_...\n",
      "\u001b[32mdbl\u001b[39m  (4): start_lat, start_lng, end_lat, end_lng\n",
      "\u001b[34mdttm\u001b[39m (2): started_at, ended_at\n",
      "\n",
      "\n",
      "\u001b[36mℹ\u001b[39m Use \u001b[30m\u001b[47m\u001b[30m\u001b[47m`spec()`\u001b[47m\u001b[30m\u001b[49m\u001b[39m to retrieve the full column specification for this data.\n",
      "\u001b[36mℹ\u001b[39m Specify the column types or set \u001b[30m\u001b[47m\u001b[30m\u001b[47m`show_col_types = FALSE`\u001b[47m\u001b[30m\u001b[49m\u001b[39m to quiet this message.\n",
      "\n",
      "\u001b[1m\u001b[1mRows: \u001b[1m\u001b[22m\u001b[34m\u001b[34m804352\u001b[34m\u001b[39m \u001b[1m\u001b[1mColumns: \u001b[1m\u001b[22m\u001b[34m\u001b[34m13\u001b[34m\u001b[39m\n",
      "\n",
      "\u001b[36m──\u001b[39m \u001b[1m\u001b[1mColumn specification\u001b[1m\u001b[22m \u001b[36m────────────────────────────────────────────────────────\u001b[39m\n",
      "\u001b[1mDelimiter:\u001b[22m \",\"\n",
      "\u001b[31mchr\u001b[39m  (7): ride_id, rideable_type, start_station_name, start_station_id, end_...\n",
      "\u001b[32mdbl\u001b[39m  (4): start_lat, start_lng, end_lat, end_lng\n",
      "\u001b[34mdttm\u001b[39m (2): started_at, ended_at\n",
      "\n",
      "\n",
      "\u001b[36mℹ\u001b[39m Use \u001b[30m\u001b[47m\u001b[30m\u001b[47m`spec()`\u001b[47m\u001b[30m\u001b[49m\u001b[39m to retrieve the full column specification for this data.\n",
      "\u001b[36mℹ\u001b[39m Specify the column types or set \u001b[30m\u001b[47m\u001b[30m\u001b[47m`show_col_types = FALSE`\u001b[47m\u001b[30m\u001b[49m\u001b[39m to quiet this message.\n",
      "\n",
      "\u001b[1m\u001b[1mRows: \u001b[1m\u001b[22m\u001b[34m\u001b[34m631226\u001b[34m\u001b[39m \u001b[1m\u001b[1mColumns: \u001b[1m\u001b[22m\u001b[34m\u001b[34m13\u001b[34m\u001b[39m\n",
      "\n",
      "\u001b[36m──\u001b[39m \u001b[1m\u001b[1mColumn specification\u001b[1m\u001b[22m \u001b[36m────────────────────────────────────────────────────────\u001b[39m\n",
      "\u001b[1mDelimiter:\u001b[22m \",\"\n",
      "\u001b[31mchr\u001b[39m  (7): ride_id, rideable_type, start_station_name, start_station_id, end_...\n",
      "\u001b[32mdbl\u001b[39m  (4): start_lat, start_lng, end_lat, end_lng\n",
      "\u001b[34mdttm\u001b[39m (2): started_at, ended_at\n",
      "\n",
      "\n",
      "\u001b[36mℹ\u001b[39m Use \u001b[30m\u001b[47m\u001b[30m\u001b[47m`spec()`\u001b[47m\u001b[30m\u001b[49m\u001b[39m to retrieve the full column specification for this data.\n",
      "\u001b[36mℹ\u001b[39m Specify the column types or set \u001b[30m\u001b[47m\u001b[30m\u001b[47m`show_col_types = FALSE`\u001b[47m\u001b[30m\u001b[49m\u001b[39m to quiet this message.\n",
      "\n"
     ]
    }
   ],
   "source": [
    "df_dec_2020 <- read_csv('../input/bike-share-datasets/202012-divvy-tripdata.csv')\n",
    "df_jan_2021 <- read.csv('../input/bike-share-datasets/202101-divvy-tripdata.csv')\n",
    "df_feb_2021 <- read_csv('../input/bike-share-datasets/202102-divvy-tripdata.csv')\n",
    "df_mar_2021 <- read.csv('../input/bike-share-datasets/202103-divvy-tripdata.csv')\n",
    "df_apr_2021 <- read_csv('../input/bike-share-datasets/202104-divvy-tripdata.csv')\n",
    "df_may_2021 <- read.csv('../input/bike-share-datasets/202105-divvy-tripdata.csv')\n",
    "df_jun_2021 <- read_csv('../input/bike-share-datasets/202106-divvy-tripdata.csv')\n",
    "df_jul_2021 <- read.csv('../input/bike-share-datasets/202107-divvy-tripdata.csv')\n",
    "df_aug_2021 <- read_csv('../input/bike-share-datasets/202108-divvy-tripdata.csv')\n",
    "df_sep_2021 <- read.csv('../input/bike-share-datasets/202109-divvy-tripdata.csv')\n",
    "df_oct_2021 <- read_csv('../input/bike-share-datasets/202110-divvy-tripdata.csv')\n",
    "df_nov_2021 <- read.csv('../input/bike-share-datasets/202111-divvy-tripdata.csv')"
   ]
  },
  {
   "cell_type": "markdown",
   "id": "a2ca9b9d",
   "metadata": {
    "papermill": {
     "duration": 0.144893,
     "end_time": "2022-04-08T16:59:24.238494",
     "exception": false,
     "start_time": "2022-04-08T16:59:24.093601",
     "status": "completed"
    },
    "tags": []
   },
   "source": [
    "### Checking each dataframe to look for inconsistencies in col datatype"
   ]
  },
  {
   "cell_type": "code",
   "execution_count": 3,
   "id": "b12558b2",
   "metadata": {
    "execution": {
     "iopub.execute_input": "2022-04-08T16:59:24.534677Z",
     "iopub.status.busy": "2022-04-08T16:59:24.532443Z",
     "iopub.status.idle": "2022-04-08T16:59:24.748774Z",
     "shell.execute_reply": "2022-04-08T16:59:24.747122Z"
    },
    "papermill": {
     "duration": 0.364904,
     "end_time": "2022-04-08T16:59:24.748964",
     "exception": false,
     "start_time": "2022-04-08T16:59:24.384060",
     "status": "completed"
    },
    "tags": []
   },
   "outputs": [
    {
     "name": "stdout",
     "output_type": "stream",
     "text": [
      "Rows: 131,573\n",
      "Columns: 13\n",
      "$ ride_id            \u001b[3m\u001b[90m<chr>\u001b[39m\u001b[23m \"70B6A9A437D4C30D\", \"158A465D4E74C54A\", \"5262016E0F…\n",
      "$ rideable_type      \u001b[3m\u001b[90m<chr>\u001b[39m\u001b[23m \"classic_bike\", \"electric_bike\", \"electric_bike\", \"…\n",
      "$ started_at         \u001b[3m\u001b[90m<dttm>\u001b[39m\u001b[23m 2020-12-27 12:44:29, 2020-12-18 17:37:15, 2020-12-…\n",
      "$ ended_at           \u001b[3m\u001b[90m<dttm>\u001b[39m\u001b[23m 2020-12-27 12:55:06, 2020-12-18 17:44:19, 2020-12-…\n",
      "$ start_station_name \u001b[3m\u001b[90m<chr>\u001b[39m\u001b[23m \"Aberdeen St & Jackson Blvd\", NA, NA, NA, NA, NA, N…\n",
      "$ start_station_id   \u001b[3m\u001b[90m<chr>\u001b[39m\u001b[23m \"13157\", NA, NA, NA, NA, NA, NA, NA, NA, NA, NA, NA…\n",
      "$ end_station_name   \u001b[3m\u001b[90m<chr>\u001b[39m\u001b[23m \"Desplaines St & Kinzie St\", NA, NA, NA, NA, NA, NA…\n",
      "$ end_station_id     \u001b[3m\u001b[90m<chr>\u001b[39m\u001b[23m \"TA1306000003\", NA, NA, NA, NA, NA, NA, NA, NA, NA,…\n",
      "$ start_lat          \u001b[3m\u001b[90m<dbl>\u001b[39m\u001b[23m 41.87773, 41.93000, 41.91000, 41.92000, 41.80000, 4…\n",
      "$ start_lng          \u001b[3m\u001b[90m<dbl>\u001b[39m\u001b[23m -87.65479, -87.70000, -87.69000, -87.70000, -87.590…\n",
      "$ end_lat            \u001b[3m\u001b[90m<dbl>\u001b[39m\u001b[23m 41.88872, 41.91000, 41.93000, 41.91000, 41.80000, 4…\n",
      "$ end_lng            \u001b[3m\u001b[90m<dbl>\u001b[39m\u001b[23m -87.64445, -87.70000, -87.70000, -87.70000, -87.590…\n",
      "$ member_casual      \u001b[3m\u001b[90m<chr>\u001b[39m\u001b[23m \"member\", \"member\", \"member\", \"member\", \"member\", \"…\n",
      "Rows: 96,834\n",
      "Columns: 13\n",
      "$ ride_id            \u001b[3m\u001b[90m<chr>\u001b[39m\u001b[23m \"E19E6F1B8D4C42ED\", \"DC88F20C2C55F27F\", \"EC45C94683…\n",
      "$ rideable_type      \u001b[3m\u001b[90m<chr>\u001b[39m\u001b[23m \"electric_bike\", \"electric_bike\", \"electric_bike\", …\n",
      "$ started_at         \u001b[3m\u001b[90m<chr>\u001b[39m\u001b[23m \"2021-01-23 16:14:19\", \"2021-01-27 18:43:08\", \"2021…\n",
      "$ ended_at           \u001b[3m\u001b[90m<chr>\u001b[39m\u001b[23m \"2021-01-23 16:24:44\", \"2021-01-27 18:47:12\", \"2021…\n",
      "$ start_station_name \u001b[3m\u001b[90m<chr>\u001b[39m\u001b[23m \"California Ave & Cortez St\", \"California Ave & Cor…\n",
      "$ start_station_id   \u001b[3m\u001b[90m<chr>\u001b[39m\u001b[23m \"17660\", \"17660\", \"17660\", \"17660\", \"17660\", \"17660…\n",
      "$ end_station_name   \u001b[3m\u001b[90m<chr>\u001b[39m\u001b[23m \"\", \"\", \"\", \"\", \"\", \"\", \"\", \"\", \"\", \"Wood St & Augu…\n",
      "$ end_station_id     \u001b[3m\u001b[90m<chr>\u001b[39m\u001b[23m \"\", \"\", \"\", \"\", \"\", \"\", \"\", \"\", \"\", \"657\", \"13258\",…\n",
      "$ start_lat          \u001b[3m\u001b[90m<dbl>\u001b[39m\u001b[23m 41.90034, 41.90033, 41.90031, 41.90040, 41.90033, 4…\n",
      "$ start_lng          \u001b[3m\u001b[90m<dbl>\u001b[39m\u001b[23m -87.69674, -87.69671, -87.69664, -87.69666, -87.696…\n",
      "$ end_lat            \u001b[3m\u001b[90m<dbl>\u001b[39m\u001b[23m 41.89000, 41.90000, 41.90000, 41.92000, 41.90000, 4…\n",
      "$ end_lng            \u001b[3m\u001b[90m<dbl>\u001b[39m\u001b[23m -87.72000, -87.69000, -87.70000, -87.69000, -87.700…\n",
      "$ member_casual      \u001b[3m\u001b[90m<chr>\u001b[39m\u001b[23m \"member\", \"member\", \"member\", \"member\", \"casual\", \"…\n",
      "Rows: 49,622\n",
      "Columns: 13\n",
      "$ ride_id            \u001b[3m\u001b[90m<chr>\u001b[39m\u001b[23m \"89E7AA6C29227EFF\", \"0FEFDE2603568365\", \"E6159D746B…\n",
      "$ rideable_type      \u001b[3m\u001b[90m<chr>\u001b[39m\u001b[23m \"classic_bike\", \"classic_bike\", \"electric_bike\", \"c…\n",
      "$ started_at         \u001b[3m\u001b[90m<dttm>\u001b[39m\u001b[23m 2021-02-12 16:14:56, 2021-02-14 17:52:38, 2021-02-…\n",
      "$ ended_at           \u001b[3m\u001b[90m<dttm>\u001b[39m\u001b[23m 2021-02-12 16:21:43, 2021-02-14 18:12:09, 2021-02-…\n",
      "$ start_station_name \u001b[3m\u001b[90m<chr>\u001b[39m\u001b[23m \"Glenwood Ave & Touhy Ave\", \"Glenwood Ave & Touhy A…\n",
      "$ start_station_id   \u001b[3m\u001b[90m<chr>\u001b[39m\u001b[23m \"525\", \"525\", \"KA1503000012\", \"637\", \"13216\", \"1800…\n",
      "$ end_station_name   \u001b[3m\u001b[90m<chr>\u001b[39m\u001b[23m \"Sheridan Rd & Columbia Ave\", \"Bosworth Ave & Howar…\n",
      "$ end_station_id     \u001b[3m\u001b[90m<chr>\u001b[39m\u001b[23m \"660\", \"16806\", \"TA1305000029\", \"TA1305000034\", \"TA…\n",
      "$ start_lat          \u001b[3m\u001b[90m<dbl>\u001b[39m\u001b[23m 42.01270, 42.01270, 41.88579, 41.89563, 41.83473, 4…\n",
      "$ start_lng          \u001b[3m\u001b[90m<dbl>\u001b[39m\u001b[23m -87.66606, -87.66606, -87.63110, -87.67207, -87.625…\n",
      "$ end_lat            \u001b[3m\u001b[90m<dbl>\u001b[39m\u001b[23m 42.00458, 42.01954, 41.88487, 41.90312, 41.83816, 4…\n",
      "$ end_lng            \u001b[3m\u001b[90m<dbl>\u001b[39m\u001b[23m -87.66141, -87.66956, -87.62750, -87.67394, -87.645…\n",
      "$ member_casual      \u001b[3m\u001b[90m<chr>\u001b[39m\u001b[23m \"member\", \"casual\", \"member\", \"member\", \"member\", \"…\n",
      "Rows: 228,496\n",
      "Columns: 13\n",
      "$ ride_id            \u001b[3m\u001b[90m<chr>\u001b[39m\u001b[23m \"CFA86D4455AA1030\", \"30D9DC61227D1AF3\", \"846D87A156…\n",
      "$ rideable_type      \u001b[3m\u001b[90m<chr>\u001b[39m\u001b[23m \"classic_bike\", \"classic_bike\", \"classic_bike\", \"cl…\n",
      "$ started_at         \u001b[3m\u001b[90m<chr>\u001b[39m\u001b[23m \"2021-03-16 08:32:30\", \"2021-03-28 01:26:28\", \"2021…\n",
      "$ ended_at           \u001b[3m\u001b[90m<chr>\u001b[39m\u001b[23m \"2021-03-16 08:36:34\", \"2021-03-28 01:36:55\", \"2021…\n",
      "$ start_station_name \u001b[3m\u001b[90m<chr>\u001b[39m\u001b[23m \"Humboldt Blvd & Armitage Ave\", \"Humboldt Blvd & Ar…\n",
      "$ start_station_id   \u001b[3m\u001b[90m<chr>\u001b[39m\u001b[23m \"15651\", \"15651\", \"15443\", \"TA1308000021\", \"525\", \"…\n",
      "$ end_station_name   \u001b[3m\u001b[90m<chr>\u001b[39m\u001b[23m \"Stave St & Armitage Ave\", \"Central Park Ave & Bloo…\n",
      "$ end_station_id     \u001b[3m\u001b[90m<chr>\u001b[39m\u001b[23m \"13266\", \"18017\", \"TA1308000043\", \"13323\", \"E008\", …\n",
      "$ start_lat          \u001b[3m\u001b[90m<dbl>\u001b[39m\u001b[23m 41.91751, 41.91751, 41.84273, 41.96881, 42.01270, 4…\n",
      "$ start_lng          \u001b[3m\u001b[90m<dbl>\u001b[39m\u001b[23m -87.70181, -87.70181, -87.63549, -87.65766, -87.666…\n",
      "$ end_lat            \u001b[3m\u001b[90m<dbl>\u001b[39m\u001b[23m 41.91774, 41.91417, 41.83066, 41.95283, 42.05049, 4…\n",
      "$ end_lng            \u001b[3m\u001b[90m<dbl>\u001b[39m\u001b[23m -87.69139, -87.71676, -87.64717, -87.64999, -87.677…\n",
      "$ member_casual      \u001b[3m\u001b[90m<chr>\u001b[39m\u001b[23m \"casual\", \"casual\", \"casual\", \"casual\", \"casual\", \"…\n",
      "Rows: 337,230\n",
      "Columns: 13\n",
      "$ ride_id            \u001b[3m\u001b[90m<chr>\u001b[39m\u001b[23m \"6C992BD37A98A63F\", \"1E0145613A209000\", \"E498E15508…\n",
      "$ rideable_type      \u001b[3m\u001b[90m<chr>\u001b[39m\u001b[23m \"classic_bike\", \"docked_bike\", \"docked_bike\", \"clas…\n",
      "$ started_at         \u001b[3m\u001b[90m<dttm>\u001b[39m\u001b[23m 2021-04-12 18:25:36, 2021-04-27 17:27:11, 2021-04-…\n",
      "$ ended_at           \u001b[3m\u001b[90m<dttm>\u001b[39m\u001b[23m 2021-04-12 18:56:55, 2021-04-27 18:31:29, 2021-04-…\n",
      "$ start_station_name \u001b[3m\u001b[90m<chr>\u001b[39m\u001b[23m \"State St & Pearson St\", \"Dorchester Ave & 49th St\"…\n",
      "$ start_station_id   \u001b[3m\u001b[90m<chr>\u001b[39m\u001b[23m \"TA1307000061\", \"KA1503000069\", \"20121\", \"TA1305000…\n",
      "$ end_station_name   \u001b[3m\u001b[90m<chr>\u001b[39m\u001b[23m \"Southport Ave & Waveland Ave\", \"Dorchester Ave & 4…\n",
      "$ end_station_id     \u001b[3m\u001b[90m<chr>\u001b[39m\u001b[23m \"13235\", \"KA1503000069\", \"20121\", \"13235\", \"20121\",…\n",
      "$ start_lat          \u001b[3m\u001b[90m<dbl>\u001b[39m\u001b[23m 41.89745, 41.80577, 41.74149, 41.90312, 41.74149, 4…\n",
      "$ start_lng          \u001b[3m\u001b[90m<dbl>\u001b[39m\u001b[23m -87.62872, -87.59246, -87.65841, -87.67394, -87.658…\n",
      "$ end_lat            \u001b[3m\u001b[90m<dbl>\u001b[39m\u001b[23m 41.94815, 41.80577, 41.74149, 41.94815, 41.74149, 4…\n",
      "$ end_lng            \u001b[3m\u001b[90m<dbl>\u001b[39m\u001b[23m -87.66394, -87.59246, -87.65841, -87.66394, -87.658…\n",
      "$ member_casual      \u001b[3m\u001b[90m<chr>\u001b[39m\u001b[23m \"member\", \"casual\", \"casual\", \"member\", \"casual\", \"…\n",
      "Rows: 531,633\n",
      "Columns: 13\n",
      "$ ride_id            \u001b[3m\u001b[90m<chr>\u001b[39m\u001b[23m \"C809ED75D6160B2A\", \"DD59FDCE0ACACAF3\", \"0AB83CB88C…\n",
      "$ rideable_type      \u001b[3m\u001b[90m<chr>\u001b[39m\u001b[23m \"electric_bike\", \"electric_bike\", \"electric_bike\", …\n",
      "$ started_at         \u001b[3m\u001b[90m<chr>\u001b[39m\u001b[23m \"2021-05-30 11:58:15\", \"2021-05-30 11:29:14\", \"2021…\n",
      "$ ended_at           \u001b[3m\u001b[90m<chr>\u001b[39m\u001b[23m \"2021-05-30 12:10:39\", \"2021-05-30 12:14:09\", \"2021…\n",
      "$ start_station_name \u001b[3m\u001b[90m<chr>\u001b[39m\u001b[23m \"\", \"\", \"\", \"\", \"\", \"\", \"\", \"\", \"\", \"\", \"\", \"\", \"\",…\n",
      "$ start_station_id   \u001b[3m\u001b[90m<chr>\u001b[39m\u001b[23m \"\", \"\", \"\", \"\", \"\", \"\", \"\", \"\", \"\", \"\", \"\", \"\", \"\",…\n",
      "$ end_station_name   \u001b[3m\u001b[90m<chr>\u001b[39m\u001b[23m \"\", \"\", \"\", \"\", \"\", \"\", \"\", \"\", \"\", \"\", \"\", \"\", \"\",…\n",
      "$ end_station_id     \u001b[3m\u001b[90m<chr>\u001b[39m\u001b[23m \"\", \"\", \"\", \"\", \"\", \"\", \"\", \"\", \"\", \"\", \"\", \"\", \"\",…\n",
      "$ start_lat          \u001b[3m\u001b[90m<dbl>\u001b[39m\u001b[23m 41.90000, 41.88000, 41.92000, 41.92000, 41.94000, 4…\n",
      "$ start_lng          \u001b[3m\u001b[90m<dbl>\u001b[39m\u001b[23m -87.63000, -87.62000, -87.70000, -87.70000, -87.690…\n",
      "$ end_lat            \u001b[3m\u001b[90m<dbl>\u001b[39m\u001b[23m 41.89000, 41.79000, 41.92000, 41.94000, 41.94000, 4…\n",
      "$ end_lng            \u001b[3m\u001b[90m<dbl>\u001b[39m\u001b[23m -87.61000, -87.58000, -87.70000, -87.69000, -87.700…\n",
      "$ member_casual      \u001b[3m\u001b[90m<chr>\u001b[39m\u001b[23m \"casual\", \"casual\", \"casual\", \"casual\", \"casual\", \"…\n",
      "Rows: 729,595\n",
      "Columns: 13\n",
      "$ ride_id            \u001b[3m\u001b[90m<chr>\u001b[39m\u001b[23m \"99FEC93BA843FB20\", \"06048DCFC8520CAF\", \"9598066F68…\n",
      "$ rideable_type      \u001b[3m\u001b[90m<chr>\u001b[39m\u001b[23m \"electric_bike\", \"electric_bike\", \"electric_bike\", …\n",
      "$ started_at         \u001b[3m\u001b[90m<dttm>\u001b[39m\u001b[23m 2021-06-13 14:31:28, 2021-06-04 11:18:02, 2021-06-…\n",
      "$ ended_at           \u001b[3m\u001b[90m<dttm>\u001b[39m\u001b[23m 2021-06-13 14:34:11, 2021-06-04 11:24:19, 2021-06-…\n",
      "$ start_station_name \u001b[3m\u001b[90m<chr>\u001b[39m\u001b[23m NA, NA, NA, NA, NA, NA, NA, NA, NA, NA, NA, NA, NA,…\n",
      "$ start_station_id   \u001b[3m\u001b[90m<chr>\u001b[39m\u001b[23m NA, NA, NA, NA, NA, NA, NA, NA, NA, NA, NA, NA, NA,…\n",
      "$ end_station_name   \u001b[3m\u001b[90m<chr>\u001b[39m\u001b[23m NA, NA, NA, NA, NA, NA, NA, NA, NA, \"Michigan Ave &…\n",
      "$ end_station_id     \u001b[3m\u001b[90m<chr>\u001b[39m\u001b[23m NA, NA, NA, NA, NA, NA, NA, NA, NA, \"13042\", NA, NA…\n",
      "$ start_lat          \u001b[3m\u001b[90m<dbl>\u001b[39m\u001b[23m 41.80, 41.79, 41.80, 41.78, 41.80, 41.78, 41.79, 41…\n",
      "$ start_lng          \u001b[3m\u001b[90m<dbl>\u001b[39m\u001b[23m -87.59, -87.59, -87.60, -87.58, -87.59, -87.58, -87…\n",
      "$ end_lat            \u001b[3m\u001b[90m<dbl>\u001b[39m\u001b[23m 41.80000, 41.80000, 41.79000, 41.80000, 41.79000, 4…\n",
      "$ end_lng            \u001b[3m\u001b[90m<dbl>\u001b[39m\u001b[23m -87.6000, -87.6000, -87.5900, -87.6000, -87.5900, -…\n",
      "$ member_casual      \u001b[3m\u001b[90m<chr>\u001b[39m\u001b[23m \"member\", \"member\", \"member\", \"member\", \"member\", \"…\n",
      "Rows: 822,410\n",
      "Columns: 13\n",
      "$ ride_id            \u001b[3m\u001b[90m<chr>\u001b[39m\u001b[23m \"0A1B623926EF4E16\", \"B2D5583A5A5E76EE\", \"6F264597DD…\n",
      "$ rideable_type      \u001b[3m\u001b[90m<chr>\u001b[39m\u001b[23m \"docked_bike\", \"classic_bike\", \"classic_bike\", \"cla…\n",
      "$ started_at         \u001b[3m\u001b[90m<chr>\u001b[39m\u001b[23m \"2021-07-02 14:44:36\", \"2021-07-07 16:57:42\", \"2021…\n",
      "$ ended_at           \u001b[3m\u001b[90m<chr>\u001b[39m\u001b[23m \"2021-07-02 15:19:58\", \"2021-07-07 17:16:09\", \"2021…\n",
      "$ start_station_name \u001b[3m\u001b[90m<chr>\u001b[39m\u001b[23m \"Michigan Ave & Washington St\", \"California Ave & C…\n",
      "$ start_station_id   \u001b[3m\u001b[90m<chr>\u001b[39m\u001b[23m \"13001\", \"17660\", \"SL-012\", \"17660\", \"17660\", \"1766…\n",
      "$ end_station_name   \u001b[3m\u001b[90m<chr>\u001b[39m\u001b[23m \"Halsted St & North Branch St\", \"Wood St & Hubbard …\n",
      "$ end_station_id     \u001b[3m\u001b[90m<chr>\u001b[39m\u001b[23m \"KA1504000117\", \"13432\", \"KA1503000044\", \"13196\", \"…\n",
      "$ start_lat          \u001b[3m\u001b[90m<dbl>\u001b[39m\u001b[23m 41.88398, 41.90036, 41.86038, 41.90036, 41.90035, 4…\n",
      "$ start_lng          \u001b[3m\u001b[90m<dbl>\u001b[39m\u001b[23m -87.62468, -87.69670, -87.62581, -87.69670, -87.696…\n",
      "$ end_lat            \u001b[3m\u001b[90m<dbl>\u001b[39m\u001b[23m 41.89937, 41.88990, 41.89017, 41.89456, 41.88659, 4…\n",
      "$ end_lng            \u001b[3m\u001b[90m<dbl>\u001b[39m\u001b[23m -87.64848, -87.67147, -87.62619, -87.65345, -87.658…\n",
      "$ member_casual      \u001b[3m\u001b[90m<chr>\u001b[39m\u001b[23m \"casual\", \"casual\", \"member\", \"member\", \"casual\", \"…\n",
      "Rows: 804,352\n",
      "Columns: 13\n",
      "$ ride_id            \u001b[3m\u001b[90m<chr>\u001b[39m\u001b[23m \"99103BB87CC6C1BB\", \"EAFCCCFB0A3FC5A1\", \"9EF4F46C57…\n",
      "$ rideable_type      \u001b[3m\u001b[90m<chr>\u001b[39m\u001b[23m \"electric_bike\", \"electric_bike\", \"electric_bike\", …\n",
      "$ started_at         \u001b[3m\u001b[90m<dttm>\u001b[39m\u001b[23m 2021-08-10 17:15:49, 2021-08-10 17:23:14, 2021-08-…\n",
      "$ ended_at           \u001b[3m\u001b[90m<dttm>\u001b[39m\u001b[23m 2021-08-10 17:22:44, 2021-08-10 17:39:24, 2021-08-…\n",
      "$ start_station_name \u001b[3m\u001b[90m<chr>\u001b[39m\u001b[23m NA, NA, NA, NA, NA, NA, NA, NA, NA, NA, NA, NA, NA,…\n",
      "$ start_station_id   \u001b[3m\u001b[90m<chr>\u001b[39m\u001b[23m NA, NA, NA, NA, NA, NA, NA, NA, NA, NA, NA, NA, NA,…\n",
      "$ end_station_name   \u001b[3m\u001b[90m<chr>\u001b[39m\u001b[23m NA, NA, NA, NA, NA, NA, NA, \"Clark St & Grace St\", …\n",
      "$ end_station_id     \u001b[3m\u001b[90m<chr>\u001b[39m\u001b[23m NA, NA, NA, NA, NA, NA, NA, \"TA1307000127\", NA, NA,…\n",
      "$ start_lat          \u001b[3m\u001b[90m<dbl>\u001b[39m\u001b[23m 41.77000, 41.77000, 41.95000, 41.97000, 41.79000, 4…\n",
      "$ start_lng          \u001b[3m\u001b[90m<dbl>\u001b[39m\u001b[23m -87.68000, -87.68000, -87.65000, -87.67000, -87.600…\n",
      "$ end_lat            \u001b[3m\u001b[90m<dbl>\u001b[39m\u001b[23m 41.77000, 41.77000, 41.97000, 41.95000, 41.77000, 4…\n",
      "$ end_lng            \u001b[3m\u001b[90m<dbl>\u001b[39m\u001b[23m -87.68000, -87.63000, -87.66000, -87.65000, -87.620…\n",
      "$ member_casual      \u001b[3m\u001b[90m<chr>\u001b[39m\u001b[23m \"member\", \"member\", \"member\", \"member\", \"member\", \"…\n",
      "Rows: 756,147\n",
      "Columns: 13\n",
      "$ ride_id            \u001b[3m\u001b[90m<chr>\u001b[39m\u001b[23m \"9DC7B962304CBFD8\", \"F930E2C6872D6B32\", \"6EF7213790…\n",
      "$ rideable_type      \u001b[3m\u001b[90m<chr>\u001b[39m\u001b[23m \"electric_bike\", \"electric_bike\", \"electric_bike\", …\n",
      "$ started_at         \u001b[3m\u001b[90m<chr>\u001b[39m\u001b[23m \"2021-09-28 16:07:10\", \"2021-09-28 14:24:51\", \"2021…\n",
      "$ ended_at           \u001b[3m\u001b[90m<chr>\u001b[39m\u001b[23m \"2021-09-28 16:09:54\", \"2021-09-28 14:40:05\", \"2021…\n",
      "$ start_station_name \u001b[3m\u001b[90m<chr>\u001b[39m\u001b[23m \"\", \"\", \"\", \"\", \"\", \"\", \"\", \"\", \"\", \"\", \"Clark St &…\n",
      "$ start_station_id   \u001b[3m\u001b[90m<chr>\u001b[39m\u001b[23m \"\", \"\", \"\", \"\", \"\", \"\", \"\", \"\", \"\", \"\", \"TA13070001…\n",
      "$ end_station_name   \u001b[3m\u001b[90m<chr>\u001b[39m\u001b[23m \"\", \"\", \"\", \"\", \"\", \"\", \"\", \"\", \"\", \"\", \"\", \"\", \"\",…\n",
      "$ end_station_id     \u001b[3m\u001b[90m<chr>\u001b[39m\u001b[23m \"\", \"\", \"\", \"\", \"\", \"\", \"\", \"\", \"\", \"\", \"\", \"\", \"\",…\n",
      "$ start_lat          \u001b[3m\u001b[90m<dbl>\u001b[39m\u001b[23m 41.89000, 41.94000, 41.81000, 41.80000, 41.88000, 4…\n",
      "$ start_lng          \u001b[3m\u001b[90m<dbl>\u001b[39m\u001b[23m -87.68000, -87.64000, -87.72000, -87.72000, -87.740…\n",
      "$ end_lat            \u001b[3m\u001b[90m<dbl>\u001b[39m\u001b[23m 41.89, 41.98, 41.80, 41.81, 41.88, 41.88, 41.74, 41…\n",
      "$ end_lng            \u001b[3m\u001b[90m<dbl>\u001b[39m\u001b[23m -87.67, -87.67, -87.72, -87.72, -87.71, -87.74, -87…\n",
      "$ member_casual      \u001b[3m\u001b[90m<chr>\u001b[39m\u001b[23m \"casual\", \"casual\", \"casual\", \"casual\", \"casual\", \"…\n",
      "Rows: 631,226\n",
      "Columns: 13\n",
      "$ ride_id            \u001b[3m\u001b[90m<chr>\u001b[39m\u001b[23m \"620BC6107255BF4C\", \"4471C70731AB2E45\", \"26CA69D43D…\n",
      "$ rideable_type      \u001b[3m\u001b[90m<chr>\u001b[39m\u001b[23m \"electric_bike\", \"electric_bike\", \"electric_bike\", …\n",
      "$ started_at         \u001b[3m\u001b[90m<dttm>\u001b[39m\u001b[23m 2021-10-22 12:46:42, 2021-10-21 09:12:37, 2021-10-…\n",
      "$ ended_at           \u001b[3m\u001b[90m<dttm>\u001b[39m\u001b[23m 2021-10-22 12:49:50, 2021-10-21 09:14:14, 2021-10-…\n",
      "$ start_station_name \u001b[3m\u001b[90m<chr>\u001b[39m\u001b[23m \"Kingsbury St & Kinzie St\", NA, NA, NA, NA, NA, NA,…\n",
      "$ start_station_id   \u001b[3m\u001b[90m<chr>\u001b[39m\u001b[23m \"KA1503000043\", NA, NA, NA, NA, NA, NA, NA, NA, NA,…\n",
      "$ end_station_name   \u001b[3m\u001b[90m<chr>\u001b[39m\u001b[23m NA, NA, NA, NA, NA, NA, NA, NA, NA, NA, NA, NA, NA,…\n",
      "$ end_station_id     \u001b[3m\u001b[90m<chr>\u001b[39m\u001b[23m NA, NA, NA, NA, NA, NA, NA, NA, NA, NA, NA, NA, NA,…\n",
      "$ start_lat          \u001b[3m\u001b[90m<dbl>\u001b[39m\u001b[23m 41.88919, 41.93000, 41.92000, 41.92000, 41.89000, 4…\n",
      "$ start_lng          \u001b[3m\u001b[90m<dbl>\u001b[39m\u001b[23m -87.63850, -87.70000, -87.70000, -87.69000, -87.710…\n",
      "$ end_lat            \u001b[3m\u001b[90m<dbl>\u001b[39m\u001b[23m 41.89000, 41.93000, 41.94000, 41.92000, 41.89000, 4…\n",
      "$ end_lng            \u001b[3m\u001b[90m<dbl>\u001b[39m\u001b[23m -87.63000, -87.71000, -87.72000, -87.69000, -87.690…\n",
      "$ member_casual      \u001b[3m\u001b[90m<chr>\u001b[39m\u001b[23m \"member\", \"member\", \"member\", \"member\", \"member\", \"…\n",
      "Rows: 359,978\n",
      "Columns: 13\n",
      "$ ride_id            \u001b[3m\u001b[90m<chr>\u001b[39m\u001b[23m \"7C00A93E10556E47\", \"90854840DFD508BA\", \"0A7D10CDD1…\n",
      "$ rideable_type      \u001b[3m\u001b[90m<chr>\u001b[39m\u001b[23m \"electric_bike\", \"electric_bike\", \"electric_bike\", …\n",
      "$ started_at         \u001b[3m\u001b[90m<chr>\u001b[39m\u001b[23m \"2021-11-27 13:27:38\", \"2021-11-27 13:38:25\", \"2021…\n",
      "$ ended_at           \u001b[3m\u001b[90m<chr>\u001b[39m\u001b[23m \"2021-11-27 13:46:38\", \"2021-11-27 13:56:10\", \"2021…\n",
      "$ start_station_name \u001b[3m\u001b[90m<chr>\u001b[39m\u001b[23m \"\", \"\", \"\", \"\", \"\", \"Michigan Ave & Oak St\", \"\", \"\"…\n",
      "$ start_station_id   \u001b[3m\u001b[90m<chr>\u001b[39m\u001b[23m \"\", \"\", \"\", \"\", \"\", \"13042\", \"\", \"\", \"\", \"\", \"\", \"\"…\n",
      "$ end_station_name   \u001b[3m\u001b[90m<chr>\u001b[39m\u001b[23m \"\", \"\", \"\", \"\", \"\", \"\", \"\", \"\", \"\", \"\", \"\", \"\", \"\",…\n",
      "$ end_station_id     \u001b[3m\u001b[90m<chr>\u001b[39m\u001b[23m \"\", \"\", \"\", \"\", \"\", \"\", \"\", \"\", \"\", \"\", \"\", \"\", \"\",…\n",
      "$ start_lat          \u001b[3m\u001b[90m<dbl>\u001b[39m\u001b[23m 41.93000, 41.96000, 41.96000, 41.94000, 41.90000, 4…\n",
      "$ start_lng          \u001b[3m\u001b[90m<dbl>\u001b[39m\u001b[23m -87.72000, -87.70000, -87.70000, -87.79000, -87.630…\n",
      "$ end_lat            \u001b[3m\u001b[90m<dbl>\u001b[39m\u001b[23m 41.96, 41.92, 41.96, 41.93, 41.88, 41.90, 41.80, 41…\n",
      "$ end_lng            \u001b[3m\u001b[90m<dbl>\u001b[39m\u001b[23m -87.73, -87.70, -87.70, -87.79, -87.62, -87.63, -87…\n",
      "$ member_casual      \u001b[3m\u001b[90m<chr>\u001b[39m\u001b[23m \"casual\", \"casual\", \"casual\", \"casual\", \"casual\", \"…\n"
     ]
    }
   ],
   "source": [
    "glimpse(df_dec_2020) # dttm\n",
    "glimpse(df_jan_2021) # chr\n",
    "glimpse(df_feb_2021) # dttm\n",
    "glimpse(df_mar_2021) # chr\n",
    "glimpse(df_apr_2021) # dttm\n",
    "glimpse(df_may_2021) # chr\n",
    "glimpse(df_jun_2021) # dttm\n",
    "glimpse(df_jul_2021) # chr\n",
    "glimpse(df_aug_2021) # dttm\n",
    "glimpse(df_sep_2021) # chr\n",
    "glimpse(df_oct_2021) # dttm\n",
    "glimpse(df_nov_2021) # chr"
   ]
  },
  {
   "cell_type": "markdown",
   "id": "54a655e1",
   "metadata": {
    "papermill": {
     "duration": 0.158249,
     "end_time": "2022-04-08T16:59:25.066028",
     "exception": false,
     "start_time": "2022-04-08T16:59:24.907779",
     "status": "completed"
    },
    "tags": []
   },
   "source": [
    "We can see from above output that some of the dataframe columns are\n",
    "formatted as chr instead of datetime. So I will have convert the \n",
    "datetime datatypes to chr using as.character() function \n",
    "to maintain consistency and to allow me merge the dataframes"
   ]
  },
  {
   "cell_type": "code",
   "execution_count": 4,
   "id": "2fd30ffc",
   "metadata": {
    "execution": {
     "iopub.execute_input": "2022-04-08T16:59:25.394554Z",
     "iopub.status.busy": "2022-04-08T16:59:25.391346Z",
     "iopub.status.idle": "2022-04-08T17:00:02.379967Z",
     "shell.execute_reply": "2022-04-08T17:00:02.376902Z"
    },
    "papermill": {
     "duration": 37.154566,
     "end_time": "2022-04-08T17:00:02.380221",
     "exception": false,
     "start_time": "2022-04-08T16:59:25.225655",
     "status": "completed"
    },
    "tags": []
   },
   "outputs": [],
   "source": [
    "df_feb_2021 <- mutate(df_feb_2021, started_at = \n",
    "                        as.character(started_at),\n",
    "                      ended_at = as.character(ended_at))\n",
    "df_apr_2021 <- mutate(df_apr_2021, started_at = \n",
    "                        as.character(started_at),\n",
    "                      ended_at = as.character(ended_at))\n",
    "df_jun_2021 <- mutate(df_jun_2021, started_at = \n",
    "                        as.character(started_at),\n",
    "                      ended_at = as.character(ended_at))\n",
    "df_aug_2021 <- mutate(df_aug_2021, started_at = \n",
    "                        as.character(started_at),\n",
    "                      ended_at = as.character(ended_at))\n",
    "df_oct_2021 <- mutate(df_oct_2021, started_at = \n",
    "                        as.character(started_at),\n",
    "                      ended_at = as.character(ended_at))\n",
    "df_dec_2020 <- mutate(df_dec_2020, started_at = \n",
    "                        as.character(started_at),\n",
    "                      ended_at = as.character(ended_at))"
   ]
  },
  {
   "cell_type": "markdown",
   "id": "042718ab",
   "metadata": {
    "papermill": {
     "duration": 0.159321,
     "end_time": "2022-04-08T17:00:02.698450",
     "exception": false,
     "start_time": "2022-04-08T17:00:02.539129",
     "status": "completed"
    },
    "tags": []
   },
   "source": [
    "### Merging the different dataframes into one for easier analysis\n",
    "Using the bind_rows function I was able to merge the datsets together into a single dataset that I can work with"
   ]
  },
  {
   "cell_type": "code",
   "execution_count": 5,
   "id": "f1285c7d",
   "metadata": {
    "execution": {
     "iopub.execute_input": "2022-04-08T17:00:03.019631Z",
     "iopub.status.busy": "2022-04-08T17:00:03.017539Z",
     "iopub.status.idle": "2022-04-08T17:00:30.418353Z",
     "shell.execute_reply": "2022-04-08T17:00:30.416280Z"
    },
    "papermill": {
     "duration": 27.562087,
     "end_time": "2022-04-08T17:00:30.418591",
     "exception": false,
     "start_time": "2022-04-08T17:00:02.856504",
     "status": "completed"
    },
    "tags": []
   },
   "outputs": [],
   "source": [
    "bike_share <- bind_rows(df_dec_2020, df_jan_2021, df_feb_2021,\n",
    "                        df_mar_2021, df_apr_2021, df_may_2021,\n",
    "                        df_jun_2021, df_jul_2021, df_aug_2021,\n",
    "                        df_sep_2021, df_oct_2021, df_nov_2021)"
   ]
  },
  {
   "cell_type": "markdown",
   "id": "442b67e1",
   "metadata": {
    "papermill": {
     "duration": 0.160802,
     "end_time": "2022-04-08T17:00:30.738495",
     "exception": false,
     "start_time": "2022-04-08T17:00:30.577693",
     "status": "completed"
    },
    "tags": []
   },
   "source": [
    "### Exploring the data to understand the structure and variables"
   ]
  },
  {
   "cell_type": "code",
   "execution_count": 6,
   "id": "6bd257b3",
   "metadata": {
    "execution": {
     "iopub.execute_input": "2022-04-08T17:00:31.072716Z",
     "iopub.status.busy": "2022-04-08T17:00:31.069640Z",
     "iopub.status.idle": "2022-04-08T17:00:31.138550Z",
     "shell.execute_reply": "2022-04-08T17:00:31.137157Z"
    },
    "papermill": {
     "duration": 0.239664,
     "end_time": "2022-04-08T17:00:31.138772",
     "exception": false,
     "start_time": "2022-04-08T17:00:30.899108",
     "status": "completed"
    },
    "tags": []
   },
   "outputs": [
    {
     "data": {
      "text/html": [
       "<style>\n",
       ".list-inline {list-style: none; margin:0; padding: 0}\n",
       ".list-inline>li {display: inline-block}\n",
       ".list-inline>li:not(:last-child)::after {content: \"\\00b7\"; padding: 0 .5ex}\n",
       "</style>\n",
       "<ol class=list-inline><li>5479096</li><li>13</li></ol>\n"
      ],
      "text/latex": [
       "\\begin{enumerate*}\n",
       "\\item 5479096\n",
       "\\item 13\n",
       "\\end{enumerate*}\n"
      ],
      "text/markdown": [
       "1. 5479096\n",
       "2. 13\n",
       "\n",
       "\n"
      ],
      "text/plain": [
       "[1] 5479096      13"
      ]
     },
     "metadata": {},
     "output_type": "display_data"
    },
    {
     "data": {
      "text/html": [
       "<table class=\"dataframe\">\n",
       "<caption>A tibble: 10 × 13</caption>\n",
       "<thead>\n",
       "\t<tr><th scope=col>ride_id</th><th scope=col>rideable_type</th><th scope=col>started_at</th><th scope=col>ended_at</th><th scope=col>start_station_name</th><th scope=col>start_station_id</th><th scope=col>end_station_name</th><th scope=col>end_station_id</th><th scope=col>start_lat</th><th scope=col>start_lng</th><th scope=col>end_lat</th><th scope=col>end_lng</th><th scope=col>member_casual</th></tr>\n",
       "\t<tr><th scope=col>&lt;chr&gt;</th><th scope=col>&lt;chr&gt;</th><th scope=col>&lt;chr&gt;</th><th scope=col>&lt;chr&gt;</th><th scope=col>&lt;chr&gt;</th><th scope=col>&lt;chr&gt;</th><th scope=col>&lt;chr&gt;</th><th scope=col>&lt;chr&gt;</th><th scope=col>&lt;dbl&gt;</th><th scope=col>&lt;dbl&gt;</th><th scope=col>&lt;dbl&gt;</th><th scope=col>&lt;dbl&gt;</th><th scope=col>&lt;chr&gt;</th></tr>\n",
       "</thead>\n",
       "<tbody>\n",
       "\t<tr><td>70B6A9A437D4C30D</td><td>classic_bike </td><td>2020-12-27 12:44:29</td><td>2020-12-27 12:55:06</td><td>Aberdeen St &amp; Jackson Blvd</td><td>13157</td><td>Desplaines St &amp; Kinzie St</td><td>TA1306000003</td><td>41.87773</td><td>-87.65479</td><td>41.88872</td><td>-87.64445</td><td>member</td></tr>\n",
       "\t<tr><td>158A465D4E74C54A</td><td>electric_bike</td><td>2020-12-18 17:37:15</td><td>2020-12-18 17:44:19</td><td>NA                        </td><td>NA   </td><td>NA                       </td><td>NA          </td><td>41.93000</td><td>-87.70000</td><td>41.91000</td><td>-87.70000</td><td>member</td></tr>\n",
       "\t<tr><td>5262016E0F1F2F9A</td><td>electric_bike</td><td>2020-12-15 15:04:33</td><td>2020-12-15 15:11:28</td><td>NA                        </td><td>NA   </td><td>NA                       </td><td>NA          </td><td>41.91000</td><td>-87.69000</td><td>41.93000</td><td>-87.70000</td><td>member</td></tr>\n",
       "\t<tr><td>BE119628E44F871E</td><td>electric_bike</td><td>2020-12-15 15:54:18</td><td>2020-12-15 16:00:11</td><td>NA                        </td><td>NA   </td><td>NA                       </td><td>NA          </td><td>41.92000</td><td>-87.70000</td><td>41.91000</td><td>-87.70000</td><td>member</td></tr>\n",
       "\t<tr><td>69AF78D57854E110</td><td>electric_bike</td><td>2020-12-22 12:08:17</td><td>2020-12-22 12:10:59</td><td>NA                        </td><td>NA   </td><td>NA                       </td><td>NA          </td><td>41.80000</td><td>-87.59000</td><td>41.80000</td><td>-87.59000</td><td>member</td></tr>\n",
       "\t<tr><td>C1DECC4AB488831C</td><td>electric_bike</td><td>2020-12-22 13:26:37</td><td>2020-12-22 13:34:50</td><td>NA                        </td><td>NA   </td><td>NA                       </td><td>NA          </td><td>41.80000</td><td>-87.59000</td><td>41.78000</td><td>-87.60000</td><td>member</td></tr>\n",
       "\t<tr><td>B014A60B856C02B1</td><td>electric_bike</td><td>2020-12-03 16:23:48</td><td>2020-12-03 16:33:39</td><td>NA                        </td><td>NA   </td><td>NA                       </td><td>NA          </td><td>41.80000</td><td>-87.59000</td><td>41.78000</td><td>-87.60000</td><td>member</td></tr>\n",
       "\t<tr><td>1E127B1929C0A976</td><td>electric_bike</td><td>2020-12-03 15:03:38</td><td>2020-12-03 15:12:39</td><td>NA                        </td><td>NA   </td><td>NA                       </td><td>NA          </td><td>41.78000</td><td>-87.60000</td><td>41.80000</td><td>-87.59000</td><td>member</td></tr>\n",
       "\t<tr><td>05F41F5137B5048E</td><td>electric_bike</td><td>2020-12-12 09:26:17</td><td>2020-12-12 09:26:35</td><td>NA                        </td><td>NA   </td><td>NA                       </td><td>NA          </td><td>42.01000</td><td>-87.70000</td><td>42.01000</td><td>-87.70000</td><td>member</td></tr>\n",
       "\t<tr><td>BB807646588DC5B1</td><td>electric_bike</td><td>2020-12-18 12:52:06</td><td>2020-12-18 12:52:23</td><td>NA                        </td><td>NA   </td><td>NA                       </td><td>NA          </td><td>41.95000</td><td>-87.65000</td><td>41.95000</td><td>-87.65000</td><td>member</td></tr>\n",
       "</tbody>\n",
       "</table>\n"
      ],
      "text/latex": [
       "A tibble: 10 × 13\n",
       "\\begin{tabular}{lllllllllllll}\n",
       " ride\\_id & rideable\\_type & started\\_at & ended\\_at & start\\_station\\_name & start\\_station\\_id & end\\_station\\_name & end\\_station\\_id & start\\_lat & start\\_lng & end\\_lat & end\\_lng & member\\_casual\\\\\n",
       " <chr> & <chr> & <chr> & <chr> & <chr> & <chr> & <chr> & <chr> & <dbl> & <dbl> & <dbl> & <dbl> & <chr>\\\\\n",
       "\\hline\n",
       "\t 70B6A9A437D4C30D & classic\\_bike  & 2020-12-27 12:44:29 & 2020-12-27 12:55:06 & Aberdeen St \\& Jackson Blvd & 13157 & Desplaines St \\& Kinzie St & TA1306000003 & 41.87773 & -87.65479 & 41.88872 & -87.64445 & member\\\\\n",
       "\t 158A465D4E74C54A & electric\\_bike & 2020-12-18 17:37:15 & 2020-12-18 17:44:19 & NA                         & NA    & NA                        & NA           & 41.93000 & -87.70000 & 41.91000 & -87.70000 & member\\\\\n",
       "\t 5262016E0F1F2F9A & electric\\_bike & 2020-12-15 15:04:33 & 2020-12-15 15:11:28 & NA                         & NA    & NA                        & NA           & 41.91000 & -87.69000 & 41.93000 & -87.70000 & member\\\\\n",
       "\t BE119628E44F871E & electric\\_bike & 2020-12-15 15:54:18 & 2020-12-15 16:00:11 & NA                         & NA    & NA                        & NA           & 41.92000 & -87.70000 & 41.91000 & -87.70000 & member\\\\\n",
       "\t 69AF78D57854E110 & electric\\_bike & 2020-12-22 12:08:17 & 2020-12-22 12:10:59 & NA                         & NA    & NA                        & NA           & 41.80000 & -87.59000 & 41.80000 & -87.59000 & member\\\\\n",
       "\t C1DECC4AB488831C & electric\\_bike & 2020-12-22 13:26:37 & 2020-12-22 13:34:50 & NA                         & NA    & NA                        & NA           & 41.80000 & -87.59000 & 41.78000 & -87.60000 & member\\\\\n",
       "\t B014A60B856C02B1 & electric\\_bike & 2020-12-03 16:23:48 & 2020-12-03 16:33:39 & NA                         & NA    & NA                        & NA           & 41.80000 & -87.59000 & 41.78000 & -87.60000 & member\\\\\n",
       "\t 1E127B1929C0A976 & electric\\_bike & 2020-12-03 15:03:38 & 2020-12-03 15:12:39 & NA                         & NA    & NA                        & NA           & 41.78000 & -87.60000 & 41.80000 & -87.59000 & member\\\\\n",
       "\t 05F41F5137B5048E & electric\\_bike & 2020-12-12 09:26:17 & 2020-12-12 09:26:35 & NA                         & NA    & NA                        & NA           & 42.01000 & -87.70000 & 42.01000 & -87.70000 & member\\\\\n",
       "\t BB807646588DC5B1 & electric\\_bike & 2020-12-18 12:52:06 & 2020-12-18 12:52:23 & NA                         & NA    & NA                        & NA           & 41.95000 & -87.65000 & 41.95000 & -87.65000 & member\\\\\n",
       "\\end{tabular}\n"
      ],
      "text/markdown": [
       "\n",
       "A tibble: 10 × 13\n",
       "\n",
       "| ride_id &lt;chr&gt; | rideable_type &lt;chr&gt; | started_at &lt;chr&gt; | ended_at &lt;chr&gt; | start_station_name &lt;chr&gt; | start_station_id &lt;chr&gt; | end_station_name &lt;chr&gt; | end_station_id &lt;chr&gt; | start_lat &lt;dbl&gt; | start_lng &lt;dbl&gt; | end_lat &lt;dbl&gt; | end_lng &lt;dbl&gt; | member_casual &lt;chr&gt; |\n",
       "|---|---|---|---|---|---|---|---|---|---|---|---|---|\n",
       "| 70B6A9A437D4C30D | classic_bike  | 2020-12-27 12:44:29 | 2020-12-27 12:55:06 | Aberdeen St &amp; Jackson Blvd | 13157 | Desplaines St &amp; Kinzie St | TA1306000003 | 41.87773 | -87.65479 | 41.88872 | -87.64445 | member |\n",
       "| 158A465D4E74C54A | electric_bike | 2020-12-18 17:37:15 | 2020-12-18 17:44:19 | NA                         | NA    | NA                        | NA           | 41.93000 | -87.70000 | 41.91000 | -87.70000 | member |\n",
       "| 5262016E0F1F2F9A | electric_bike | 2020-12-15 15:04:33 | 2020-12-15 15:11:28 | NA                         | NA    | NA                        | NA           | 41.91000 | -87.69000 | 41.93000 | -87.70000 | member |\n",
       "| BE119628E44F871E | electric_bike | 2020-12-15 15:54:18 | 2020-12-15 16:00:11 | NA                         | NA    | NA                        | NA           | 41.92000 | -87.70000 | 41.91000 | -87.70000 | member |\n",
       "| 69AF78D57854E110 | electric_bike | 2020-12-22 12:08:17 | 2020-12-22 12:10:59 | NA                         | NA    | NA                        | NA           | 41.80000 | -87.59000 | 41.80000 | -87.59000 | member |\n",
       "| C1DECC4AB488831C | electric_bike | 2020-12-22 13:26:37 | 2020-12-22 13:34:50 | NA                         | NA    | NA                        | NA           | 41.80000 | -87.59000 | 41.78000 | -87.60000 | member |\n",
       "| B014A60B856C02B1 | electric_bike | 2020-12-03 16:23:48 | 2020-12-03 16:33:39 | NA                         | NA    | NA                        | NA           | 41.80000 | -87.59000 | 41.78000 | -87.60000 | member |\n",
       "| 1E127B1929C0A976 | electric_bike | 2020-12-03 15:03:38 | 2020-12-03 15:12:39 | NA                         | NA    | NA                        | NA           | 41.78000 | -87.60000 | 41.80000 | -87.59000 | member |\n",
       "| 05F41F5137B5048E | electric_bike | 2020-12-12 09:26:17 | 2020-12-12 09:26:35 | NA                         | NA    | NA                        | NA           | 42.01000 | -87.70000 | 42.01000 | -87.70000 | member |\n",
       "| BB807646588DC5B1 | electric_bike | 2020-12-18 12:52:06 | 2020-12-18 12:52:23 | NA                         | NA    | NA                        | NA           | 41.95000 | -87.65000 | 41.95000 | -87.65000 | member |\n",
       "\n"
      ],
      "text/plain": [
       "   ride_id          rideable_type started_at          ended_at           \n",
       "1  70B6A9A437D4C30D classic_bike  2020-12-27 12:44:29 2020-12-27 12:55:06\n",
       "2  158A465D4E74C54A electric_bike 2020-12-18 17:37:15 2020-12-18 17:44:19\n",
       "3  5262016E0F1F2F9A electric_bike 2020-12-15 15:04:33 2020-12-15 15:11:28\n",
       "4  BE119628E44F871E electric_bike 2020-12-15 15:54:18 2020-12-15 16:00:11\n",
       "5  69AF78D57854E110 electric_bike 2020-12-22 12:08:17 2020-12-22 12:10:59\n",
       "6  C1DECC4AB488831C electric_bike 2020-12-22 13:26:37 2020-12-22 13:34:50\n",
       "7  B014A60B856C02B1 electric_bike 2020-12-03 16:23:48 2020-12-03 16:33:39\n",
       "8  1E127B1929C0A976 electric_bike 2020-12-03 15:03:38 2020-12-03 15:12:39\n",
       "9  05F41F5137B5048E electric_bike 2020-12-12 09:26:17 2020-12-12 09:26:35\n",
       "10 BB807646588DC5B1 electric_bike 2020-12-18 12:52:06 2020-12-18 12:52:23\n",
       "   start_station_name         start_station_id end_station_name         \n",
       "1  Aberdeen St & Jackson Blvd 13157            Desplaines St & Kinzie St\n",
       "2  NA                         NA               NA                       \n",
       "3  NA                         NA               NA                       \n",
       "4  NA                         NA               NA                       \n",
       "5  NA                         NA               NA                       \n",
       "6  NA                         NA               NA                       \n",
       "7  NA                         NA               NA                       \n",
       "8  NA                         NA               NA                       \n",
       "9  NA                         NA               NA                       \n",
       "10 NA                         NA               NA                       \n",
       "   end_station_id start_lat start_lng end_lat  end_lng   member_casual\n",
       "1  TA1306000003   41.87773  -87.65479 41.88872 -87.64445 member       \n",
       "2  NA             41.93000  -87.70000 41.91000 -87.70000 member       \n",
       "3  NA             41.91000  -87.69000 41.93000 -87.70000 member       \n",
       "4  NA             41.92000  -87.70000 41.91000 -87.70000 member       \n",
       "5  NA             41.80000  -87.59000 41.80000 -87.59000 member       \n",
       "6  NA             41.80000  -87.59000 41.78000 -87.60000 member       \n",
       "7  NA             41.80000  -87.59000 41.78000 -87.60000 member       \n",
       "8  NA             41.78000  -87.60000 41.80000 -87.59000 member       \n",
       "9  NA             42.01000  -87.70000 42.01000 -87.70000 member       \n",
       "10 NA             41.95000  -87.65000 41.95000 -87.65000 member       "
      ]
     },
     "metadata": {},
     "output_type": "display_data"
    },
    {
     "data": {
      "text/html": [
       "<style>\n",
       ".list-inline {list-style: none; margin:0; padding: 0}\n",
       ".list-inline>li {display: inline-block}\n",
       ".list-inline>li:not(:last-child)::after {content: \"\\00b7\"; padding: 0 .5ex}\n",
       "</style>\n",
       "<ol class=list-inline><li>'ride_id'</li><li>'rideable_type'</li><li>'started_at'</li><li>'ended_at'</li><li>'start_station_name'</li><li>'start_station_id'</li><li>'end_station_name'</li><li>'end_station_id'</li><li>'start_lat'</li><li>'start_lng'</li><li>'end_lat'</li><li>'end_lng'</li><li>'member_casual'</li></ol>\n"
      ],
      "text/latex": [
       "\\begin{enumerate*}\n",
       "\\item 'ride\\_id'\n",
       "\\item 'rideable\\_type'\n",
       "\\item 'started\\_at'\n",
       "\\item 'ended\\_at'\n",
       "\\item 'start\\_station\\_name'\n",
       "\\item 'start\\_station\\_id'\n",
       "\\item 'end\\_station\\_name'\n",
       "\\item 'end\\_station\\_id'\n",
       "\\item 'start\\_lat'\n",
       "\\item 'start\\_lng'\n",
       "\\item 'end\\_lat'\n",
       "\\item 'end\\_lng'\n",
       "\\item 'member\\_casual'\n",
       "\\end{enumerate*}\n"
      ],
      "text/markdown": [
       "1. 'ride_id'\n",
       "2. 'rideable_type'\n",
       "3. 'started_at'\n",
       "4. 'ended_at'\n",
       "5. 'start_station_name'\n",
       "6. 'start_station_id'\n",
       "7. 'end_station_name'\n",
       "8. 'end_station_id'\n",
       "9. 'start_lat'\n",
       "10. 'start_lng'\n",
       "11. 'end_lat'\n",
       "12. 'end_lng'\n",
       "13. 'member_casual'\n",
       "\n",
       "\n"
      ],
      "text/plain": [
       " [1] \"ride_id\"            \"rideable_type\"      \"started_at\"        \n",
       " [4] \"ended_at\"           \"start_station_name\" \"start_station_id\"  \n",
       " [7] \"end_station_name\"   \"end_station_id\"     \"start_lat\"         \n",
       "[10] \"start_lng\"          \"end_lat\"            \"end_lng\"           \n",
       "[13] \"member_casual\"     "
      ]
     },
     "metadata": {},
     "output_type": "display_data"
    },
    {
     "name": "stdout",
     "output_type": "stream",
     "text": [
      "Rows: 5,479,096\n",
      "Columns: 13\n",
      "$ ride_id            \u001b[3m\u001b[90m<chr>\u001b[39m\u001b[23m \"70B6A9A437D4C30D\", \"158A465D4E74C54A\", \"5262016E0F…\n",
      "$ rideable_type      \u001b[3m\u001b[90m<chr>\u001b[39m\u001b[23m \"classic_bike\", \"electric_bike\", \"electric_bike\", \"…\n",
      "$ started_at         \u001b[3m\u001b[90m<chr>\u001b[39m\u001b[23m \"2020-12-27 12:44:29\", \"2020-12-18 17:37:15\", \"2020…\n",
      "$ ended_at           \u001b[3m\u001b[90m<chr>\u001b[39m\u001b[23m \"2020-12-27 12:55:06\", \"2020-12-18 17:44:19\", \"2020…\n",
      "$ start_station_name \u001b[3m\u001b[90m<chr>\u001b[39m\u001b[23m \"Aberdeen St & Jackson Blvd\", NA, NA, NA, NA, NA, N…\n",
      "$ start_station_id   \u001b[3m\u001b[90m<chr>\u001b[39m\u001b[23m \"13157\", NA, NA, NA, NA, NA, NA, NA, NA, NA, NA, NA…\n",
      "$ end_station_name   \u001b[3m\u001b[90m<chr>\u001b[39m\u001b[23m \"Desplaines St & Kinzie St\", NA, NA, NA, NA, NA, NA…\n",
      "$ end_station_id     \u001b[3m\u001b[90m<chr>\u001b[39m\u001b[23m \"TA1306000003\", NA, NA, NA, NA, NA, NA, NA, NA, NA,…\n",
      "$ start_lat          \u001b[3m\u001b[90m<dbl>\u001b[39m\u001b[23m 41.87773, 41.93000, 41.91000, 41.92000, 41.80000, 4…\n",
      "$ start_lng          \u001b[3m\u001b[90m<dbl>\u001b[39m\u001b[23m -87.65479, -87.70000, -87.69000, -87.70000, -87.590…\n",
      "$ end_lat            \u001b[3m\u001b[90m<dbl>\u001b[39m\u001b[23m 41.88872, 41.91000, 41.93000, 41.91000, 41.80000, 4…\n",
      "$ end_lng            \u001b[3m\u001b[90m<dbl>\u001b[39m\u001b[23m -87.64445, -87.70000, -87.70000, -87.70000, -87.590…\n",
      "$ member_casual      \u001b[3m\u001b[90m<chr>\u001b[39m\u001b[23m \"member\", \"member\", \"member\", \"member\", \"member\", \"…\n"
     ]
    }
   ],
   "source": [
    "dim(bike_share) # to know the number of observations and variables\n",
    "head(bike_share, 10) # getting the first 10 rows\n",
    "colnames(bike_share) # checking the variable names\n",
    "glimpse(bike_share) # shows an overview of the dataframe"
   ]
  },
  {
   "cell_type": "markdown",
   "id": "dafa31b8",
   "metadata": {
    "papermill": {
     "duration": 0.171802,
     "end_time": "2022-04-08T17:00:31.493152",
     "exception": false,
     "start_time": "2022-04-08T17:00:31.321350",
     "status": "completed"
    },
    "tags": []
   },
   "source": [
    "\n",
    "We have 14 variables and 5479096 observations in the bike_share datasets\n",
    "We also have some NULL values in the start station name and id.\n",
    "\n",
    "\n",
    "\n",
    "\n",
    "## PHASE 3 - Process Data\n",
    "\n",
    "Using the unique function to get the distinct values in ride types\n",
    "and membership types"
   ]
  },
  {
   "cell_type": "code",
   "execution_count": 7,
   "id": "98b676cd",
   "metadata": {
    "execution": {
     "iopub.execute_input": "2022-04-08T17:00:31.847434Z",
     "iopub.status.busy": "2022-04-08T17:00:31.845865Z",
     "iopub.status.idle": "2022-04-08T17:00:32.331341Z",
     "shell.execute_reply": "2022-04-08T17:00:32.329767Z"
    },
    "papermill": {
     "duration": 0.666104,
     "end_time": "2022-04-08T17:00:32.331503",
     "exception": false,
     "start_time": "2022-04-08T17:00:31.665399",
     "status": "completed"
    },
    "tags": []
   },
   "outputs": [
    {
     "data": {
      "text/html": [
       "<style>\n",
       ".list-inline {list-style: none; margin:0; padding: 0}\n",
       ".list-inline>li {display: inline-block}\n",
       ".list-inline>li:not(:last-child)::after {content: \"\\00b7\"; padding: 0 .5ex}\n",
       "</style>\n",
       "<ol class=list-inline><li>'classic_bike'</li><li>'electric_bike'</li><li>'docked_bike'</li></ol>\n"
      ],
      "text/latex": [
       "\\begin{enumerate*}\n",
       "\\item 'classic\\_bike'\n",
       "\\item 'electric\\_bike'\n",
       "\\item 'docked\\_bike'\n",
       "\\end{enumerate*}\n"
      ],
      "text/markdown": [
       "1. 'classic_bike'\n",
       "2. 'electric_bike'\n",
       "3. 'docked_bike'\n",
       "\n",
       "\n"
      ],
      "text/plain": [
       "[1] \"classic_bike\"  \"electric_bike\" \"docked_bike\"  "
      ]
     },
     "metadata": {},
     "output_type": "display_data"
    },
    {
     "data": {
      "text/html": [
       "<style>\n",
       ".list-inline {list-style: none; margin:0; padding: 0}\n",
       ".list-inline>li {display: inline-block}\n",
       ".list-inline>li:not(:last-child)::after {content: \"\\00b7\"; padding: 0 .5ex}\n",
       "</style>\n",
       "<ol class=list-inline><li>'member'</li><li>'casual'</li></ol>\n"
      ],
      "text/latex": [
       "\\begin{enumerate*}\n",
       "\\item 'member'\n",
       "\\item 'casual'\n",
       "\\end{enumerate*}\n"
      ],
      "text/markdown": [
       "1. 'member'\n",
       "2. 'casual'\n",
       "\n",
       "\n"
      ],
      "text/plain": [
       "[1] \"member\" \"casual\""
      ]
     },
     "metadata": {},
     "output_type": "display_data"
    }
   ],
   "source": [
    "unique(bike_share$rideable_type)\n",
    "unique(bike_share$member_casual)"
   ]
  },
  {
   "cell_type": "markdown",
   "id": "aea3ca6f",
   "metadata": {
    "papermill": {
     "duration": 0.179783,
     "end_time": "2022-04-08T17:00:32.700881",
     "exception": false,
     "start_time": "2022-04-08T17:00:32.521098",
     "status": "completed"
    },
    "tags": []
   },
   "source": [
    "### Checking for duplicated rides"
   ]
  },
  {
   "cell_type": "code",
   "execution_count": 8,
   "id": "5f57cd1d",
   "metadata": {
    "execution": {
     "iopub.execute_input": "2022-04-08T17:00:33.069245Z",
     "iopub.status.busy": "2022-04-08T17:00:33.067533Z",
     "iopub.status.idle": "2022-04-08T17:00:33.828962Z",
     "shell.execute_reply": "2022-04-08T17:00:33.827163Z"
    },
    "papermill": {
     "duration": 0.949536,
     "end_time": "2022-04-08T17:00:33.829133",
     "exception": false,
     "start_time": "2022-04-08T17:00:32.879597",
     "status": "completed"
    },
    "tags": []
   },
   "outputs": [
    {
     "data": {
      "text/html": [
       "<table class=\"dataframe\">\n",
       "<caption>A tibble: 0 × 13</caption>\n",
       "<thead>\n",
       "\t<tr><th scope=col>ride_id</th><th scope=col>rideable_type</th><th scope=col>started_at</th><th scope=col>ended_at</th><th scope=col>start_station_name</th><th scope=col>start_station_id</th><th scope=col>end_station_name</th><th scope=col>end_station_id</th><th scope=col>start_lat</th><th scope=col>start_lng</th><th scope=col>end_lat</th><th scope=col>end_lng</th><th scope=col>member_casual</th></tr>\n",
       "\t<tr><th scope=col>&lt;chr&gt;</th><th scope=col>&lt;chr&gt;</th><th scope=col>&lt;chr&gt;</th><th scope=col>&lt;chr&gt;</th><th scope=col>&lt;chr&gt;</th><th scope=col>&lt;chr&gt;</th><th scope=col>&lt;chr&gt;</th><th scope=col>&lt;chr&gt;</th><th scope=col>&lt;dbl&gt;</th><th scope=col>&lt;dbl&gt;</th><th scope=col>&lt;dbl&gt;</th><th scope=col>&lt;dbl&gt;</th><th scope=col>&lt;chr&gt;</th></tr>\n",
       "</thead>\n",
       "<tbody>\n",
       "</tbody>\n",
       "</table>\n"
      ],
      "text/latex": [
       "A tibble: 0 × 13\n",
       "\\begin{tabular}{lllllllllllll}\n",
       " ride\\_id & rideable\\_type & started\\_at & ended\\_at & start\\_station\\_name & start\\_station\\_id & end\\_station\\_name & end\\_station\\_id & start\\_lat & start\\_lng & end\\_lat & end\\_lng & member\\_casual\\\\\n",
       " <chr> & <chr> & <chr> & <chr> & <chr> & <chr> & <chr> & <chr> & <dbl> & <dbl> & <dbl> & <dbl> & <chr>\\\\\n",
       "\\hline\n",
       "\\end{tabular}\n"
      ],
      "text/markdown": [
       "\n",
       "A tibble: 0 × 13\n",
       "\n",
       "| ride_id &lt;chr&gt; | rideable_type &lt;chr&gt; | started_at &lt;chr&gt; | ended_at &lt;chr&gt; | start_station_name &lt;chr&gt; | start_station_id &lt;chr&gt; | end_station_name &lt;chr&gt; | end_station_id &lt;chr&gt; | start_lat &lt;dbl&gt; | start_lng &lt;dbl&gt; | end_lat &lt;dbl&gt; | end_lng &lt;dbl&gt; | member_casual &lt;chr&gt; |\n",
       "|---|---|---|---|---|---|---|---|---|---|---|---|---|\n",
       "\n"
      ],
      "text/plain": [
       "     ride_id rideable_type started_at ended_at start_station_name\n",
       "     start_station_id end_station_name end_station_id start_lat start_lng\n",
       "     end_lat end_lng member_casual"
      ]
     },
     "metadata": {},
     "output_type": "display_data"
    }
   ],
   "source": [
    "bike_share[duplicated(bike_share$ride_id), ]\n",
    "\n",
    "# output shows that there is no duplicate value"
   ]
  },
  {
   "cell_type": "markdown",
   "id": "fa48e738",
   "metadata": {
    "papermill": {
     "duration": 0.176401,
     "end_time": "2022-04-08T17:00:34.184486",
     "exception": false,
     "start_time": "2022-04-08T17:00:34.008085",
     "status": "completed"
    },
    "tags": []
   },
   "source": [
    "### Checking for negative time"
   ]
  },
  {
   "cell_type": "code",
   "execution_count": 9,
   "id": "75ffddc6",
   "metadata": {
    "execution": {
     "iopub.execute_input": "2022-04-08T17:00:34.548295Z",
     "iopub.status.busy": "2022-04-08T17:00:34.546301Z",
     "iopub.status.idle": "2022-04-08T17:00:38.515120Z",
     "shell.execute_reply": "2022-04-08T17:00:38.513568Z"
    },
    "papermill": {
     "duration": 4.152086,
     "end_time": "2022-04-08T17:00:38.515281",
     "exception": false,
     "start_time": "2022-04-08T17:00:34.363195",
     "status": "completed"
    },
    "tags": []
   },
   "outputs": [
    {
     "data": {
      "text/html": [
       "<table class=\"dataframe\">\n",
       "<caption>A spec_tbl_df: 1 × 1</caption>\n",
       "<thead>\n",
       "\t<tr><th scope=col>n</th></tr>\n",
       "\t<tr><th scope=col>&lt;int&gt;</th></tr>\n",
       "</thead>\n",
       "<tbody>\n",
       "\t<tr><td>581</td></tr>\n",
       "</tbody>\n",
       "</table>\n"
      ],
      "text/latex": [
       "A spec\\_tbl\\_df: 1 × 1\n",
       "\\begin{tabular}{l}\n",
       " n\\\\\n",
       " <int>\\\\\n",
       "\\hline\n",
       "\t 581\\\\\n",
       "\\end{tabular}\n"
      ],
      "text/markdown": [
       "\n",
       "A spec_tbl_df: 1 × 1\n",
       "\n",
       "| n &lt;int&gt; |\n",
       "|---|\n",
       "| 581 |\n",
       "\n"
      ],
      "text/plain": [
       "  n  \n",
       "1 581"
      ]
     },
     "metadata": {},
     "output_type": "display_data"
    }
   ],
   "source": [
    "\n",
    "bike_share %>% \n",
    "  filter(ended_at < started_at) %>% \n",
    "  count()\n",
    "\n",
    "# there are 581 negative time values. These might have been due to data collection error.\n",
    "# I'll have to remove it as it might skew the result of my analysis"
   ]
  },
  {
   "cell_type": "markdown",
   "id": "28cb2203",
   "metadata": {
    "papermill": {
     "duration": 0.17916,
     "end_time": "2022-04-08T17:00:38.872432",
     "exception": false,
     "start_time": "2022-04-08T17:00:38.693272",
     "status": "completed"
    },
    "tags": []
   },
   "source": [
    "### Removing negative time"
   ]
  },
  {
   "cell_type": "code",
   "execution_count": 10,
   "id": "a58f288e",
   "metadata": {
    "execution": {
     "iopub.execute_input": "2022-04-08T17:00:39.236195Z",
     "iopub.status.busy": "2022-04-08T17:00:39.234417Z",
     "iopub.status.idle": "2022-04-08T17:00:47.833090Z",
     "shell.execute_reply": "2022-04-08T17:00:47.831578Z"
    },
    "papermill": {
     "duration": 8.781406,
     "end_time": "2022-04-08T17:00:47.833279",
     "exception": false,
     "start_time": "2022-04-08T17:00:39.051873",
     "status": "completed"
    },
    "tags": []
   },
   "outputs": [
    {
     "name": "stdout",
     "output_type": "stream",
     "text": [
      "Rows: 5,478,022\n",
      "Columns: 13\n",
      "$ ride_id            \u001b[3m\u001b[90m<chr>\u001b[39m\u001b[23m \"70B6A9A437D4C30D\", \"158A465D4E74C54A\", \"5262016E0F…\n",
      "$ rideable_type      \u001b[3m\u001b[90m<chr>\u001b[39m\u001b[23m \"classic_bike\", \"electric_bike\", \"electric_bike\", \"…\n",
      "$ started_at         \u001b[3m\u001b[90m<chr>\u001b[39m\u001b[23m \"2020-12-27 12:44:29\", \"2020-12-18 17:37:15\", \"2020…\n",
      "$ ended_at           \u001b[3m\u001b[90m<chr>\u001b[39m\u001b[23m \"2020-12-27 12:55:06\", \"2020-12-18 17:44:19\", \"2020…\n",
      "$ start_station_name \u001b[3m\u001b[90m<chr>\u001b[39m\u001b[23m \"Aberdeen St & Jackson Blvd\", NA, NA, NA, NA, NA, N…\n",
      "$ start_station_id   \u001b[3m\u001b[90m<chr>\u001b[39m\u001b[23m \"13157\", NA, NA, NA, NA, NA, NA, NA, NA, NA, NA, NA…\n",
      "$ end_station_name   \u001b[3m\u001b[90m<chr>\u001b[39m\u001b[23m \"Desplaines St & Kinzie St\", NA, NA, NA, NA, NA, NA…\n",
      "$ end_station_id     \u001b[3m\u001b[90m<chr>\u001b[39m\u001b[23m \"TA1306000003\", NA, NA, NA, NA, NA, NA, NA, NA, NA,…\n",
      "$ start_lat          \u001b[3m\u001b[90m<dbl>\u001b[39m\u001b[23m 41.87773, 41.93000, 41.91000, 41.92000, 41.80000, 4…\n",
      "$ start_lng          \u001b[3m\u001b[90m<dbl>\u001b[39m\u001b[23m -87.65479, -87.70000, -87.69000, -87.70000, -87.590…\n",
      "$ end_lat            \u001b[3m\u001b[90m<dbl>\u001b[39m\u001b[23m 41.88872, 41.91000, 41.93000, 41.91000, 41.80000, 4…\n",
      "$ end_lng            \u001b[3m\u001b[90m<dbl>\u001b[39m\u001b[23m -87.64445, -87.70000, -87.70000, -87.70000, -87.590…\n",
      "$ member_casual      \u001b[3m\u001b[90m<chr>\u001b[39m\u001b[23m \"member\", \"member\", \"member\", \"member\", \"member\", \"…\n"
     ]
    }
   ],
   "source": [
    "# removing negative time values\n",
    "bike_share <- bike_share %>% \n",
    "  filter(ended_at > started_at)\n",
    "\n",
    "glimpse(bike_share)"
   ]
  },
  {
   "cell_type": "markdown",
   "id": "2f458fa3",
   "metadata": {
    "papermill": {
     "duration": 0.219586,
     "end_time": "2022-04-08T17:00:48.268771",
     "exception": false,
     "start_time": "2022-04-08T17:00:48.049185",
     "status": "completed"
    },
    "tags": []
   },
   "source": [
    "### Removing rows with na values"
   ]
  },
  {
   "cell_type": "code",
   "execution_count": 11,
   "id": "ceaf51d6",
   "metadata": {
    "execution": {
     "iopub.execute_input": "2022-04-08T17:00:48.696654Z",
     "iopub.status.busy": "2022-04-08T17:00:48.693775Z",
     "iopub.status.idle": "2022-04-08T17:00:58.722972Z",
     "shell.execute_reply": "2022-04-08T17:00:58.720910Z"
    },
    "papermill": {
     "duration": 10.24523,
     "end_time": "2022-04-08T17:00:58.723218",
     "exception": false,
     "start_time": "2022-04-08T17:00:48.477988",
     "status": "completed"
    },
    "tags": []
   },
   "outputs": [],
   "source": [
    "# removing null values\n",
    "bike_share <- bike_share %>% \n",
    "  na.omit() # 564159 rows were removed"
   ]
  },
  {
   "cell_type": "markdown",
   "id": "c84cf911",
   "metadata": {
    "papermill": {
     "duration": 0.200385,
     "end_time": "2022-04-08T17:00:59.133914",
     "exception": false,
     "start_time": "2022-04-08T17:00:58.933529",
     "status": "completed"
    },
    "tags": []
   },
   "source": [
    "### Renaming variables"
   ]
  },
  {
   "cell_type": "code",
   "execution_count": 12,
   "id": "fdefbb65",
   "metadata": {
    "execution": {
     "iopub.execute_input": "2022-04-08T17:00:59.534366Z",
     "iopub.status.busy": "2022-04-08T17:00:59.532651Z",
     "iopub.status.idle": "2022-04-08T17:01:45.320553Z",
     "shell.execute_reply": "2022-04-08T17:01:45.321211Z"
    },
    "papermill": {
     "duration": 45.993254,
     "end_time": "2022-04-08T17:01:45.321423",
     "exception": false,
     "start_time": "2022-04-08T17:00:59.328169",
     "status": "completed"
    },
    "tags": []
   },
   "outputs": [
    {
     "name": "stdout",
     "output_type": "stream",
     "text": [
      "Rows: 5,008,751\n",
      "Columns: 11\n",
      "$ ride_id            \u001b[3m\u001b[90m<chr>\u001b[39m\u001b[23m \"70B6A9A437D4C30D\", \"15F369FDAED4E8E3\", \"0CFD61DFE0…\n",
      "$ ride_type          \u001b[3m\u001b[90m<chr>\u001b[39m\u001b[23m \"classic_bike\", \"electric_bike\", \"electric_bike\", \"…\n",
      "$ started_at         \u001b[3m\u001b[90m<chr>\u001b[39m\u001b[23m \"2020-12-27 12:44:29\", \"2020-12-18 13:53:56\", \"2020…\n",
      "$ ended_at           \u001b[3m\u001b[90m<chr>\u001b[39m\u001b[23m \"2020-12-27 12:55:06\", \"2020-12-18 14:01:46\", \"2020…\n",
      "$ start_station_name \u001b[3m\u001b[90m<chr>\u001b[39m\u001b[23m \"Aberdeen St & Jackson Blvd\", \"Larrabee St & Armita…\n",
      "$ start_station_id   \u001b[3m\u001b[90m<chr>\u001b[39m\u001b[23m \"13157\", \"TA1309000006\", \"KA1503000043\", \"TA1309000…\n",
      "$ end_station_name   \u001b[3m\u001b[90m<chr>\u001b[39m\u001b[23m \"Desplaines St & Kinzie St\", \"Wells St & Walton St\"…\n",
      "$ end_station_id     \u001b[3m\u001b[90m<chr>\u001b[39m\u001b[23m \"TA1306000003\", \"TA1306000011\", \"TA1306000003\", \"TA…\n",
      "$ start_lat_lng      \u001b[3m\u001b[90m<chr>\u001b[39m\u001b[23m \"-87.6547874341.87772613\", \"-87.643798541.918112333…\n",
      "$ end_lat_lng        \u001b[3m\u001b[90m<chr>\u001b[39m\u001b[23m \"-87.6444478533 41.888716036\", \"-87.6344476666667 4…\n",
      "$ user_type          \u001b[3m\u001b[90m<chr>\u001b[39m\u001b[23m \"member\", \"member\", \"member\", \"casual\", \"member\", \"…\n"
     ]
    }
   ],
   "source": [
    "bike_share <- bike_share %>% \n",
    "  rename(ride_type = rideable_type, # changing rideable_type col to ride_type\n",
    "         user_type = member_casual) %>%  # changing member_casual col to membership_type col\n",
    "  unite(start_lat_lng , c('start_lng', 'start_lat'), sep = \"\") %>% \n",
    "  unite(end_lat_lng, c('end_lng', 'end_lat'), sep = \" \")\n",
    "\n",
    "glimpse(bike_share)"
   ]
  },
  {
   "cell_type": "markdown",
   "id": "b932530d",
   "metadata": {
    "papermill": {
     "duration": 0.206475,
     "end_time": "2022-04-08T17:01:45.769743",
     "exception": false,
     "start_time": "2022-04-08T17:01:45.563268",
     "status": "completed"
    },
    "tags": []
   },
   "source": [
    "### Changing started_at and ended_at type to datetime\n",
    "We need to change the columns containing datetime values from\n",
    "**chr** to **datatime** type in order to work with it"
   ]
  },
  {
   "cell_type": "code",
   "execution_count": 13,
   "id": "339a0b31",
   "metadata": {
    "execution": {
     "iopub.execute_input": "2022-04-08T17:01:46.182296Z",
     "iopub.status.busy": "2022-04-08T17:01:46.180770Z",
     "iopub.status.idle": "2022-04-08T17:02:05.045748Z",
     "shell.execute_reply": "2022-04-08T17:02:05.043926Z"
    },
    "papermill": {
     "duration": 19.082131,
     "end_time": "2022-04-08T17:02:05.046019",
     "exception": false,
     "start_time": "2022-04-08T17:01:45.963888",
     "status": "completed"
    },
    "tags": []
   },
   "outputs": [],
   "source": [
    "bike_share <- bike_share %>%\n",
    "  mutate(started_at = ymd_hms(started_at),\n",
    "         ended_at = ymd_hms(ended_at))"
   ]
  },
  {
   "cell_type": "markdown",
   "id": "b1a391f9",
   "metadata": {
    "papermill": {
     "duration": 0.190026,
     "end_time": "2022-04-08T17:02:05.418477",
     "exception": false,
     "start_time": "2022-04-08T17:02:05.228451",
     "status": "completed"
    },
    "tags": []
   },
   "source": [
    "### Extracting the days from the started_at variable"
   ]
  },
  {
   "cell_type": "code",
   "execution_count": 14,
   "id": "aad29729",
   "metadata": {
    "execution": {
     "iopub.execute_input": "2022-04-08T17:02:05.829126Z",
     "iopub.status.busy": "2022-04-08T17:02:05.827515Z",
     "iopub.status.idle": "2022-04-08T17:02:11.284261Z",
     "shell.execute_reply": "2022-04-08T17:02:11.282621Z"
    },
    "papermill": {
     "duration": 5.664387,
     "end_time": "2022-04-08T17:02:11.284449",
     "exception": false,
     "start_time": "2022-04-08T17:02:05.620062",
     "status": "completed"
    },
    "tags": []
   },
   "outputs": [],
   "source": [
    "bike_share <- bike_share %>% \n",
    "  mutate(weekday = wday(started_at, label=TRUE, abbr=TRUE))"
   ]
  },
  {
   "cell_type": "markdown",
   "id": "0f7469e2",
   "metadata": {
    "papermill": {
     "duration": 0.190847,
     "end_time": "2022-04-08T17:02:11.688200",
     "exception": false,
     "start_time": "2022-04-08T17:02:11.497353",
     "status": "completed"
    },
    "tags": []
   },
   "source": [
    "### Extracting months from started_at variable\n"
   ]
  },
  {
   "cell_type": "code",
   "execution_count": 15,
   "id": "175f0268",
   "metadata": {
    "execution": {
     "iopub.execute_input": "2022-04-08T17:02:12.082833Z",
     "iopub.status.busy": "2022-04-08T17:02:12.081087Z",
     "iopub.status.idle": "2022-04-08T17:02:19.431500Z",
     "shell.execute_reply": "2022-04-08T17:02:19.430187Z"
    },
    "papermill": {
     "duration": 7.557528,
     "end_time": "2022-04-08T17:02:19.431648",
     "exception": false,
     "start_time": "2022-04-08T17:02:11.874120",
     "status": "completed"
    },
    "tags": []
   },
   "outputs": [],
   "source": [
    "bike_share <- bike_share %>% \n",
    "  mutate(month = month(started_at, label=TRUE, abbr=TRUE))"
   ]
  },
  {
   "cell_type": "markdown",
   "id": "89f6c048",
   "metadata": {
    "papermill": {
     "duration": 0.2847,
     "end_time": "2022-04-08T17:02:19.900612",
     "exception": false,
     "start_time": "2022-04-08T17:02:19.615912",
     "status": "completed"
    },
    "tags": []
   },
   "source": [
    "### Extracting the years from the started_at variable"
   ]
  },
  {
   "cell_type": "code",
   "execution_count": 16,
   "id": "053d00ec",
   "metadata": {
    "execution": {
     "iopub.execute_input": "2022-04-08T17:02:20.330115Z",
     "iopub.status.busy": "2022-04-08T17:02:20.327606Z",
     "iopub.status.idle": "2022-04-08T17:02:20.889271Z",
     "shell.execute_reply": "2022-04-08T17:02:20.887356Z"
    },
    "papermill": {
     "duration": 0.776022,
     "end_time": "2022-04-08T17:02:20.889449",
     "exception": false,
     "start_time": "2022-04-08T17:02:20.113427",
     "status": "completed"
    },
    "tags": []
   },
   "outputs": [],
   "source": [
    "bike_share <- bike_share %>% \n",
    "  mutate(year = year(started_at))"
   ]
  },
  {
   "cell_type": "markdown",
   "id": "d5f73d81",
   "metadata": {
    "papermill": {
     "duration": 0.204239,
     "end_time": "2022-04-08T17:02:21.303059",
     "exception": false,
     "start_time": "2022-04-08T17:02:21.098820",
     "status": "completed"
    },
    "tags": []
   },
   "source": [
    "### Extracting the time from the started_at and ended_at as a variable"
   ]
  },
  {
   "cell_type": "code",
   "execution_count": 17,
   "id": "027693ec",
   "metadata": {
    "execution": {
     "iopub.execute_input": "2022-04-08T17:02:21.726947Z",
     "iopub.status.busy": "2022-04-08T17:02:21.725196Z",
     "iopub.status.idle": "2022-04-08T17:02:54.191714Z",
     "shell.execute_reply": "2022-04-08T17:02:54.189935Z"
    },
    "papermill": {
     "duration": 32.702278,
     "end_time": "2022-04-08T17:02:54.191950",
     "exception": false,
     "start_time": "2022-04-08T17:02:21.489672",
     "status": "completed"
    },
    "tags": []
   },
   "outputs": [],
   "source": [
    "bike_share <- bike_share %>% \n",
    "  mutate(start_time = format(started_at, \"%H:%M:%S\")) %>% \n",
    "  mutate(end_time = format(ended_at, \"%H:%M:%S\")) %>% \n",
    "  # converting the time variable the the approriate datatype\n",
    "  mutate(start_time = hms(start_time)) %>% \n",
    "  mutate(end_time = hms(end_time))"
   ]
  },
  {
   "cell_type": "markdown",
   "id": "cf9dc141",
   "metadata": {
    "papermill": {
     "duration": 0.193051,
     "end_time": "2022-04-08T17:02:54.572194",
     "exception": false,
     "start_time": "2022-04-08T17:02:54.379143",
     "status": "completed"
    },
    "tags": []
   },
   "source": [
    "### Extracting the hour from the timestamp as a variable"
   ]
  },
  {
   "cell_type": "code",
   "execution_count": 18,
   "id": "b35b8c02",
   "metadata": {
    "execution": {
     "iopub.execute_input": "2022-04-08T17:02:54.953929Z",
     "iopub.status.busy": "2022-04-08T17:02:54.952290Z",
     "iopub.status.idle": "2022-04-08T17:02:54.971779Z",
     "shell.execute_reply": "2022-04-08T17:02:54.970119Z"
    },
    "papermill": {
     "duration": 0.21383,
     "end_time": "2022-04-08T17:02:54.971994",
     "exception": false,
     "start_time": "2022-04-08T17:02:54.758164",
     "status": "completed"
    },
    "tags": []
   },
   "outputs": [],
   "source": [
    "# creating an hour variable\n",
    "bike_share <- bike_share %>% \n",
    "  mutate(hour = hour(start_time))"
   ]
  },
  {
   "cell_type": "markdown",
   "id": "1205069b",
   "metadata": {
    "papermill": {
     "duration": 0.182522,
     "end_time": "2022-04-08T17:02:55.343930",
     "exception": false,
     "start_time": "2022-04-08T17:02:55.161408",
     "status": "completed"
    },
    "tags": []
   },
   "source": [
    "## Creating a duration variable"
   ]
  },
  {
   "cell_type": "code",
   "execution_count": 19,
   "id": "5cd8f812",
   "metadata": {
    "execution": {
     "iopub.execute_input": "2022-04-08T17:02:55.728970Z",
     "iopub.status.busy": "2022-04-08T17:02:55.727756Z",
     "iopub.status.idle": "2022-04-08T17:02:55.810010Z",
     "shell.execute_reply": "2022-04-08T17:02:55.808218Z"
    },
    "papermill": {
     "duration": 0.278734,
     "end_time": "2022-04-08T17:02:55.810174",
     "exception": false,
     "start_time": "2022-04-08T17:02:55.531440",
     "status": "completed"
    },
    "tags": []
   },
   "outputs": [
    {
     "data": {
      "text/html": [
       "<table class=\"dataframe\">\n",
       "<caption>A tibble: 5 × 18</caption>\n",
       "<thead>\n",
       "\t<tr><th scope=col>ride_id</th><th scope=col>ride_type</th><th scope=col>started_at</th><th scope=col>ended_at</th><th scope=col>start_station_name</th><th scope=col>start_station_id</th><th scope=col>end_station_name</th><th scope=col>end_station_id</th><th scope=col>start_lat_lng</th><th scope=col>end_lat_lng</th><th scope=col>user_type</th><th scope=col>weekday</th><th scope=col>month</th><th scope=col>year</th><th scope=col>start_time</th><th scope=col>end_time</th><th scope=col>hour</th><th scope=col>duration</th></tr>\n",
       "\t<tr><th scope=col>&lt;chr&gt;</th><th scope=col>&lt;chr&gt;</th><th scope=col>&lt;dttm&gt;</th><th scope=col>&lt;dttm&gt;</th><th scope=col>&lt;chr&gt;</th><th scope=col>&lt;chr&gt;</th><th scope=col>&lt;chr&gt;</th><th scope=col>&lt;chr&gt;</th><th scope=col>&lt;chr&gt;</th><th scope=col>&lt;chr&gt;</th><th scope=col>&lt;chr&gt;</th><th scope=col>&lt;ord&gt;</th><th scope=col>&lt;ord&gt;</th><th scope=col>&lt;dbl&gt;</th><th scope=col>&lt;Period&gt;</th><th scope=col>&lt;Period&gt;</th><th scope=col>&lt;dbl&gt;</th><th scope=col>&lt;drtn&gt;</th></tr>\n",
       "</thead>\n",
       "<tbody>\n",
       "\t<tr><td>70B6A9A437D4C30D</td><td>classic_bike </td><td>2020-12-27 12:44:29</td><td>2020-12-27 12:55:06</td><td>Aberdeen St &amp; Jackson Blvd</td><td><span style=white-space:pre-wrap>13157       </span></td><td>Desplaines St &amp; Kinzie St</td><td>TA1306000003</td><td><span style=white-space:pre-wrap>-87.6547874341.87772613          </span></td><td><span style=white-space:pre-wrap>-87.6444478533 41.888716036       </span></td><td>member</td><td>Sun</td><td>Dec</td><td>2020</td><td>12H 44M 29S</td><td>12H 55M 6S</td><td>12</td><td>10.616667 mins</td></tr>\n",
       "\t<tr><td>15F369FDAED4E8E3</td><td>electric_bike</td><td>2020-12-18 13:53:56</td><td>2020-12-18 14:01:46</td><td>Larrabee St &amp; Armitage Ave</td><td>TA1309000006</td><td><span style=white-space:pre-wrap>Wells St &amp; Walton St     </span></td><td>TA1306000011</td><td><span style=white-space:pre-wrap>-87.643798541.9181123333333      </span></td><td>-87.6344476666667 41.9001293333333</td><td>member</td><td>Fri</td><td>Dec</td><td>2020</td><td>13H 53M 56S</td><td>14H 1M 46S</td><td>13</td><td> 7.833333 mins</td></tr>\n",
       "\t<tr><td>0CFD61DFE00E6043</td><td>electric_bike</td><td>2020-12-28 17:10:25</td><td>2020-12-28 17:12:13</td><td><span style=white-space:pre-wrap>Kingsbury St &amp; Kinzie St  </span></td><td>KA1503000043</td><td>Desplaines St &amp; Kinzie St</td><td>TA1306000003</td><td>-87.638576166666741.8891931666667</td><td><span style=white-space:pre-wrap>-87.642479 41.8890988333333       </span></td><td>member</td><td>Mon</td><td>Dec</td><td>2020</td><td>17H 10M 25S</td><td>17H 12M 13S</td><td>17</td><td> 1.800000 mins</td></tr>\n",
       "\t<tr><td>244CB936487039B7</td><td><span style=white-space:pre-wrap>docked_bike  </span></td><td>2020-12-10 13:36:16</td><td>2020-12-10 14:37:03</td><td><span style=white-space:pre-wrap>Clark St &amp; Leland Ave     </span></td><td>TA1309000014</td><td><span style=white-space:pre-wrap>Clark St &amp; Leland Ave    </span></td><td>TA1309000014</td><td><span style=white-space:pre-wrap>-87.66742941.967096              </span></td><td><span style=white-space:pre-wrap>-87.667429 41.967096              </span></td><td>casual</td><td>Thu</td><td>Dec</td><td>2020</td><td>13H 36M 16S</td><td>14H 37M 3S</td><td>13</td><td>60.783333 mins</td></tr>\n",
       "\t<tr><td>B7AD5038F79637F9</td><td>classic_bike </td><td>2020-12-20 13:09:04</td><td>2020-12-20 13:15:08</td><td><span style=white-space:pre-wrap>Dearborn St &amp; Monroe St   </span></td><td>TA1305000006</td><td>Kingsbury St &amp; Kinzie St </td><td>KA1503000043</td><td><span style=white-space:pre-wrap>-87.629520919341.881319815       </span></td><td><span style=white-space:pre-wrap>-87.6385057718 41.88917683258     </span></td><td>member</td><td>Sun</td><td>Dec</td><td>2020</td><td>13H 9M 4S</td><td>13H 15M 8S</td><td>13</td><td> 6.066667 mins</td></tr>\n",
       "</tbody>\n",
       "</table>\n"
      ],
      "text/latex": [
       "A tibble: 5 × 18\n",
       "\\begin{tabular}{llllllllllllllllll}\n",
       " ride\\_id & ride\\_type & started\\_at & ended\\_at & start\\_station\\_name & start\\_station\\_id & end\\_station\\_name & end\\_station\\_id & start\\_lat\\_lng & end\\_lat\\_lng & user\\_type & weekday & month & year & start\\_time & end\\_time & hour & duration\\\\\n",
       " <chr> & <chr> & <dttm> & <dttm> & <chr> & <chr> & <chr> & <chr> & <chr> & <chr> & <chr> & <ord> & <ord> & <dbl> & <Period> & <Period> & <dbl> & <drtn>\\\\\n",
       "\\hline\n",
       "\t 70B6A9A437D4C30D & classic\\_bike  & 2020-12-27 12:44:29 & 2020-12-27 12:55:06 & Aberdeen St \\& Jackson Blvd & 13157        & Desplaines St \\& Kinzie St & TA1306000003 & -87.6547874341.87772613           & -87.6444478533 41.888716036        & member & Sun & Dec & 2020 & 12H 44M 29S & 12H 55M 6S & 12 & 10.616667 mins\\\\\n",
       "\t 15F369FDAED4E8E3 & electric\\_bike & 2020-12-18 13:53:56 & 2020-12-18 14:01:46 & Larrabee St \\& Armitage Ave & TA1309000006 & Wells St \\& Walton St      & TA1306000011 & -87.643798541.9181123333333       & -87.6344476666667 41.9001293333333 & member & Fri & Dec & 2020 & 13H 53M 56S & 14H 1M 46S & 13 &  7.833333 mins\\\\\n",
       "\t 0CFD61DFE00E6043 & electric\\_bike & 2020-12-28 17:10:25 & 2020-12-28 17:12:13 & Kingsbury St \\& Kinzie St   & KA1503000043 & Desplaines St \\& Kinzie St & TA1306000003 & -87.638576166666741.8891931666667 & -87.642479 41.8890988333333        & member & Mon & Dec & 2020 & 17H 10M 25S & 17H 12M 13S & 17 &  1.800000 mins\\\\\n",
       "\t 244CB936487039B7 & docked\\_bike   & 2020-12-10 13:36:16 & 2020-12-10 14:37:03 & Clark St \\& Leland Ave      & TA1309000014 & Clark St \\& Leland Ave     & TA1309000014 & -87.66742941.967096               & -87.667429 41.967096               & casual & Thu & Dec & 2020 & 13H 36M 16S & 14H 37M 3S & 13 & 60.783333 mins\\\\\n",
       "\t B7AD5038F79637F9 & classic\\_bike  & 2020-12-20 13:09:04 & 2020-12-20 13:15:08 & Dearborn St \\& Monroe St    & TA1305000006 & Kingsbury St \\& Kinzie St  & KA1503000043 & -87.629520919341.881319815        & -87.6385057718 41.88917683258      & member & Sun & Dec & 2020 & 13H 9M 4S & 13H 15M 8S & 13 &  6.066667 mins\\\\\n",
       "\\end{tabular}\n"
      ],
      "text/markdown": [
       "\n",
       "A tibble: 5 × 18\n",
       "\n",
       "| ride_id &lt;chr&gt; | ride_type &lt;chr&gt; | started_at &lt;dttm&gt; | ended_at &lt;dttm&gt; | start_station_name &lt;chr&gt; | start_station_id &lt;chr&gt; | end_station_name &lt;chr&gt; | end_station_id &lt;chr&gt; | start_lat_lng &lt;chr&gt; | end_lat_lng &lt;chr&gt; | user_type &lt;chr&gt; | weekday &lt;ord&gt; | month &lt;ord&gt; | year &lt;dbl&gt; | start_time &lt;Period&gt; | end_time &lt;Period&gt; | hour &lt;dbl&gt; | duration &lt;drtn&gt; |\n",
       "|---|---|---|---|---|---|---|---|---|---|---|---|---|---|---|---|---|---|\n",
       "| 70B6A9A437D4C30D | classic_bike  | 2020-12-27 12:44:29 | 2020-12-27 12:55:06 | Aberdeen St &amp; Jackson Blvd | 13157        | Desplaines St &amp; Kinzie St | TA1306000003 | -87.6547874341.87772613           | -87.6444478533 41.888716036        | member | Sun | Dec | 2020 | 12H 44M 29S | 12H 55M 6S | 12 | 10.616667 mins |\n",
       "| 15F369FDAED4E8E3 | electric_bike | 2020-12-18 13:53:56 | 2020-12-18 14:01:46 | Larrabee St &amp; Armitage Ave | TA1309000006 | Wells St &amp; Walton St      | TA1306000011 | -87.643798541.9181123333333       | -87.6344476666667 41.9001293333333 | member | Fri | Dec | 2020 | 13H 53M 56S | 14H 1M 46S | 13 |  7.833333 mins |\n",
       "| 0CFD61DFE00E6043 | electric_bike | 2020-12-28 17:10:25 | 2020-12-28 17:12:13 | Kingsbury St &amp; Kinzie St   | KA1503000043 | Desplaines St &amp; Kinzie St | TA1306000003 | -87.638576166666741.8891931666667 | -87.642479 41.8890988333333        | member | Mon | Dec | 2020 | 17H 10M 25S | 17H 12M 13S | 17 |  1.800000 mins |\n",
       "| 244CB936487039B7 | docked_bike   | 2020-12-10 13:36:16 | 2020-12-10 14:37:03 | Clark St &amp; Leland Ave      | TA1309000014 | Clark St &amp; Leland Ave     | TA1309000014 | -87.66742941.967096               | -87.667429 41.967096               | casual | Thu | Dec | 2020 | 13H 36M 16S | 14H 37M 3S | 13 | 60.783333 mins |\n",
       "| B7AD5038F79637F9 | classic_bike  | 2020-12-20 13:09:04 | 2020-12-20 13:15:08 | Dearborn St &amp; Monroe St    | TA1305000006 | Kingsbury St &amp; Kinzie St  | KA1503000043 | -87.629520919341.881319815        | -87.6385057718 41.88917683258      | member | Sun | Dec | 2020 | 13H 9M 4S | 13H 15M 8S | 13 |  6.066667 mins |\n",
       "\n"
      ],
      "text/plain": [
       "  ride_id          ride_type     started_at          ended_at           \n",
       "1 70B6A9A437D4C30D classic_bike  2020-12-27 12:44:29 2020-12-27 12:55:06\n",
       "2 15F369FDAED4E8E3 electric_bike 2020-12-18 13:53:56 2020-12-18 14:01:46\n",
       "3 0CFD61DFE00E6043 electric_bike 2020-12-28 17:10:25 2020-12-28 17:12:13\n",
       "4 244CB936487039B7 docked_bike   2020-12-10 13:36:16 2020-12-10 14:37:03\n",
       "5 B7AD5038F79637F9 classic_bike  2020-12-20 13:09:04 2020-12-20 13:15:08\n",
       "  start_station_name         start_station_id end_station_name         \n",
       "1 Aberdeen St & Jackson Blvd 13157            Desplaines St & Kinzie St\n",
       "2 Larrabee St & Armitage Ave TA1309000006     Wells St & Walton St     \n",
       "3 Kingsbury St & Kinzie St   KA1503000043     Desplaines St & Kinzie St\n",
       "4 Clark St & Leland Ave      TA1309000014     Clark St & Leland Ave    \n",
       "5 Dearborn St & Monroe St    TA1305000006     Kingsbury St & Kinzie St \n",
       "  end_station_id start_lat_lng                    \n",
       "1 TA1306000003   -87.6547874341.87772613          \n",
       "2 TA1306000011   -87.643798541.9181123333333      \n",
       "3 TA1306000003   -87.638576166666741.8891931666667\n",
       "4 TA1309000014   -87.66742941.967096              \n",
       "5 KA1503000043   -87.629520919341.881319815       \n",
       "  end_lat_lng                        user_type weekday month year start_time \n",
       "1 -87.6444478533 41.888716036        member    Sun     Dec   2020 12H 44M 29S\n",
       "2 -87.6344476666667 41.9001293333333 member    Fri     Dec   2020 13H 53M 56S\n",
       "3 -87.642479 41.8890988333333        member    Mon     Dec   2020 17H 10M 25S\n",
       "4 -87.667429 41.967096               casual    Thu     Dec   2020 13H 36M 16S\n",
       "5 -87.6385057718 41.88917683258      member    Sun     Dec   2020 13H 9M 4S  \n",
       "  end_time    hour duration      \n",
       "1 12H 55M 6S  12   10.616667 mins\n",
       "2 14H 1M 46S  13    7.833333 mins\n",
       "3 17H 12M 13S 17    1.800000 mins\n",
       "4 14H 37M 3S  13   60.783333 mins\n",
       "5 13H 15M 8S  13    6.066667 mins"
      ]
     },
     "metadata": {},
     "output_type": "display_data"
    }
   ],
   "source": [
    "# Creating duration variable in mins\n",
    "bike_share$duration <- difftime(bike_share$ended_at, \n",
    "                               bike_share$started_at, units = \"mins\")\n",
    "\n",
    "head(bike_share, 5)"
   ]
  },
  {
   "cell_type": "markdown",
   "id": "1869bd28",
   "metadata": {
    "papermill": {
     "duration": 0.196749,
     "end_time": "2022-04-08T17:02:56.206194",
     "exception": false,
     "start_time": "2022-04-08T17:02:56.009445",
     "status": "completed"
    },
    "tags": []
   },
   "source": [
    "## PHASE 4 - Analyze Data"
   ]
  },
  {
   "cell_type": "code",
   "execution_count": 20,
   "id": "4300052f",
   "metadata": {
    "execution": {
     "iopub.execute_input": "2022-04-08T17:02:56.617353Z",
     "iopub.status.busy": "2022-04-08T17:02:56.616053Z",
     "iopub.status.idle": "2022-04-08T17:03:23.272019Z",
     "shell.execute_reply": "2022-04-08T17:03:23.270224Z"
    },
    "papermill": {
     "duration": 26.862158,
     "end_time": "2022-04-08T17:03:23.272221",
     "exception": false,
     "start_time": "2022-04-08T17:02:56.410063",
     "status": "completed"
    },
    "tags": []
   },
   "outputs": [
    {
     "data": {
      "text/plain": [
       "\n",
       " casual  member \n",
       "2258433 2750318 "
      ]
     },
     "metadata": {},
     "output_type": "display_data"
    },
    {
     "data": {
      "text/plain": [
       "\n",
       " classic_bike   docked_bike electric_bike \n",
       "      3214140        319870       1474741 "
      ]
     },
     "metadata": {},
     "output_type": "display_data"
    },
    {
     "data": {
      "image/png": "[encoded data removed]"
     },
     "metadata": {
      "image/png": {
       "height": 420,
       "width": 420
      }
     },
     "output_type": "display_data"
    },
    {
     "data": {
      "image/png": "[encoded data removed]"
     },
     "metadata": {
      "image/png": {
       "height": 420,
       "width": 420
      }
     },
     "output_type": "display_data"
    }
   ],
   "source": [
    "# checking for the count of members and casual riders\n",
    "table(bike_share$user_type)\n",
    "table(bike_share$ride_type)\n",
    "# visualizing the user count\n",
    "ggplot(bike_share, aes(user_type, fill = user_type)) +\n",
    "  geom_bar() +\n",
    "labs(title = 'User type Count',\n",
    "    x = 'User Type',\n",
    "    y = 'Count')\n",
    "# casual -> 2240479\n",
    "# member -> 2671814\n",
    "\n",
    "\n",
    "# plotting a graph to better visualize the result\n",
    "bike_share %>%\n",
    "ggplot(aes(x = ride_type, fill = ride_type)) +\n",
    "  geom_bar() +\n",
    "  facet_wrap(~user_type) +\n",
    "  labs(title = 'Count of Casual and Members Riders', \n",
    "       x = 'Ride Type',\n",
    "       y = 'Count')"
   ]
  },
  {
   "cell_type": "markdown",
   "id": "b7aabcea",
   "metadata": {
    "papermill": {
     "duration": 0.257926,
     "end_time": "2022-04-08T17:03:23.775070",
     "exception": false,
     "start_time": "2022-04-08T17:03:23.517144",
     "status": "completed"
    },
    "tags": []
   },
   "source": [
    "### Getting the total numbers of ride for each user type for each ride type and the percentage"
   ]
  },
  {
   "cell_type": "code",
   "execution_count": 21,
   "id": "7d1ebd60",
   "metadata": {
    "execution": {
     "iopub.execute_input": "2022-04-08T17:03:24.300771Z",
     "iopub.status.busy": "2022-04-08T17:03:24.299641Z",
     "iopub.status.idle": "2022-04-08T17:03:24.539971Z",
     "shell.execute_reply": "2022-04-08T17:03:24.538395Z"
    },
    "papermill": {
     "duration": 0.504454,
     "end_time": "2022-04-08T17:03:24.540141",
     "exception": false,
     "start_time": "2022-04-08T17:03:24.035687",
     "status": "completed"
    },
    "tags": []
   },
   "outputs": [
    {
     "data": {
      "text/html": [
       "<table class=\"dataframe\">\n",
       "<caption>A grouped_df: 6 × 4</caption>\n",
       "<thead>\n",
       "\t<tr><th scope=col>ride_type</th><th scope=col>user_type</th><th scope=col>n</th><th scope=col>percentage</th></tr>\n",
       "\t<tr><th scope=col>&lt;chr&gt;</th><th scope=col>&lt;chr&gt;</th><th scope=col>&lt;int&gt;</th><th scope=col>&lt;dbl&gt;</th></tr>\n",
       "</thead>\n",
       "<tbody>\n",
       "\t<tr><td>classic_bike </td><td>member</td><td>1960167</td><td>39.9054769</td></tr>\n",
       "\t<tr><td>classic_bike </td><td>casual</td><td>1253973</td><td>25.5286364</td></tr>\n",
       "\t<tr><td>electric_bike</td><td>member</td><td> 782378</td><td>15.9278098</td></tr>\n",
       "\t<tr><td>electric_bike</td><td>casual</td><td> 692363</td><td>14.0952662</td></tr>\n",
       "\t<tr><td>docked_bike  </td><td>casual</td><td> 312097</td><td> 6.3537339</td></tr>\n",
       "\t<tr><td>docked_bike  </td><td>member</td><td>   7773</td><td> 0.1582443</td></tr>\n",
       "</tbody>\n",
       "</table>\n"
      ],
      "text/latex": [
       "A grouped\\_df: 6 × 4\n",
       "\\begin{tabular}{llll}\n",
       " ride\\_type & user\\_type & n & percentage\\\\\n",
       " <chr> & <chr> & <int> & <dbl>\\\\\n",
       "\\hline\n",
       "\t classic\\_bike  & member & 1960167 & 39.9054769\\\\\n",
       "\t classic\\_bike  & casual & 1253973 & 25.5286364\\\\\n",
       "\t electric\\_bike & member &  782378 & 15.9278098\\\\\n",
       "\t electric\\_bike & casual &  692363 & 14.0952662\\\\\n",
       "\t docked\\_bike   & casual &  312097 &  6.3537339\\\\\n",
       "\t docked\\_bike   & member &    7773 &  0.1582443\\\\\n",
       "\\end{tabular}\n"
      ],
      "text/markdown": [
       "\n",
       "A grouped_df: 6 × 4\n",
       "\n",
       "| ride_type &lt;chr&gt; | user_type &lt;chr&gt; | n &lt;int&gt; | percentage &lt;dbl&gt; |\n",
       "|---|---|---|---|\n",
       "| classic_bike  | member | 1960167 | 39.9054769 |\n",
       "| classic_bike  | casual | 1253973 | 25.5286364 |\n",
       "| electric_bike | member |  782378 | 15.9278098 |\n",
       "| electric_bike | casual |  692363 | 14.0952662 |\n",
       "| docked_bike   | casual |  312097 |  6.3537339 |\n",
       "| docked_bike   | member |    7773 |  0.1582443 |\n",
       "\n"
      ],
      "text/plain": [
       "  ride_type     user_type n       percentage\n",
       "1 classic_bike  member    1960167 39.9054769\n",
       "2 classic_bike  casual    1253973 25.5286364\n",
       "3 electric_bike member     782378 15.9278098\n",
       "4 electric_bike casual     692363 14.0952662\n",
       "5 docked_bike   casual     312097  6.3537339\n",
       "6 docked_bike   member       7773  0.1582443"
      ]
     },
     "metadata": {},
     "output_type": "display_data"
    }
   ],
   "source": [
    "df <- bike_share %>% \n",
    "  select(ride_id, user_type, ride_type) %>% \n",
    "  group_by(ride_type, user_type) %>% \n",
    "  count() %>% \n",
    "  mutate(percentage = (n/4912025*100)) %>% \n",
    "  arrange(-percentage)\n",
    "\n",
    "head(df)"
   ]
  },
  {
   "cell_type": "markdown",
   "id": "24100df4",
   "metadata": {
    "papermill": {
     "duration": 0.263975,
     "end_time": "2022-04-08T17:03:25.040996",
     "exception": false,
     "start_time": "2022-04-08T17:03:24.777021",
     "status": "completed"
    },
    "tags": []
   },
   "source": [
    "### Getting the no of rides for each month\n"
   ]
  },
  {
   "cell_type": "code",
   "execution_count": 22,
   "id": "9018e22f",
   "metadata": {
    "execution": {
     "iopub.execute_input": "2022-04-08T17:03:25.550879Z",
     "iopub.status.busy": "2022-04-08T17:03:25.548746Z",
     "iopub.status.idle": "2022-04-08T17:03:26.649872Z",
     "shell.execute_reply": "2022-04-08T17:03:26.648699Z"
    },
    "papermill": {
     "duration": 1.349302,
     "end_time": "2022-04-08T17:03:26.650027",
     "exception": false,
     "start_time": "2022-04-08T17:03:25.300725",
     "status": "completed"
    },
    "tags": []
   },
   "outputs": [
    {
     "data": {
      "text/html": [
       "<table class=\"dataframe\">\n",
       "<caption>A grouped_df: 6 × 3</caption>\n",
       "<thead>\n",
       "\t<tr><th scope=col>month</th><th scope=col>user_type</th><th scope=col>n</th></tr>\n",
       "\t<tr><th scope=col>&lt;ord&gt;</th><th scope=col>&lt;chr&gt;</th><th scope=col>&lt;int&gt;</th></tr>\n",
       "</thead>\n",
       "<tbody>\n",
       "\t<tr><td>Jan</td><td>casual</td><td> 18095</td></tr>\n",
       "\t<tr><td>Jan</td><td>member</td><td> 78631</td></tr>\n",
       "\t<tr><td>Feb</td><td>casual</td><td>  8613</td></tr>\n",
       "\t<tr><td>Feb</td><td>member</td><td> 34381</td></tr>\n",
       "\t<tr><td>Mar</td><td>casual</td><td> 83918</td></tr>\n",
       "\t<tr><td>Mar</td><td>member</td><td>144399</td></tr>\n",
       "</tbody>\n",
       "</table>\n"
      ],
      "text/latex": [
       "A grouped\\_df: 6 × 3\n",
       "\\begin{tabular}{lll}\n",
       " month & user\\_type & n\\\\\n",
       " <ord> & <chr> & <int>\\\\\n",
       "\\hline\n",
       "\t Jan & casual &  18095\\\\\n",
       "\t Jan & member &  78631\\\\\n",
       "\t Feb & casual &   8613\\\\\n",
       "\t Feb & member &  34381\\\\\n",
       "\t Mar & casual &  83918\\\\\n",
       "\t Mar & member & 144399\\\\\n",
       "\\end{tabular}\n"
      ],
      "text/markdown": [
       "\n",
       "A grouped_df: 6 × 3\n",
       "\n",
       "| month &lt;ord&gt; | user_type &lt;chr&gt; | n &lt;int&gt; |\n",
       "|---|---|---|\n",
       "| Jan | casual |  18095 |\n",
       "| Jan | member |  78631 |\n",
       "| Feb | casual |   8613 |\n",
       "| Feb | member |  34381 |\n",
       "| Mar | casual |  83918 |\n",
       "| Mar | member | 144399 |\n",
       "\n"
      ],
      "text/plain": [
       "  month user_type n     \n",
       "1 Jan   casual     18095\n",
       "2 Jan   member     78631\n",
       "3 Feb   casual      8613\n",
       "4 Feb   member     34381\n",
       "5 Mar   casual     83918\n",
       "6 Mar   member    144399"
      ]
     },
     "metadata": {},
     "output_type": "display_data"
    },
    {
     "data": {
      "image/png": "[encoded data removed]"
     },
     "metadata": {
      "image/png": {
       "height": 420,
       "width": 420
      }
     },
     "output_type": "display_data"
    }
   ],
   "source": [
    "# Getting the no of rides for each weekday  \n",
    "  df_month <- bike_share %>% \n",
    "    select(user_type, month) %>% \n",
    "    group_by(month, user_type) %>% \n",
    "    count() %>% \n",
    "    arrange()\n",
    "\n",
    "head(df_month)\n",
    "\n",
    "# Visualizing the number of rides per months\n",
    "ggplot(df_month, aes(x=month, y=n, fill = month)) +\n",
    "  geom_col() +\n",
    "  facet_wrap(~user_type) +\n",
    "  labs(title = 'Number of Rides per Months',\n",
    "       x = 'Months',\n",
    "       y = 'Count')"
   ]
  },
  {
   "cell_type": "markdown",
   "id": "5931e01d",
   "metadata": {
    "papermill": {
     "duration": 0.213733,
     "end_time": "2022-04-08T17:03:27.107996",
     "exception": false,
     "start_time": "2022-04-08T17:03:26.894263",
     "status": "completed"
    },
    "tags": []
   },
   "source": [
    "### Getting the no of rides for each weekday\n"
   ]
  },
  {
   "cell_type": "code",
   "execution_count": 23,
   "id": "aa1f5b86",
   "metadata": {
    "execution": {
     "iopub.execute_input": "2022-04-08T17:03:27.532847Z",
     "iopub.status.busy": "2022-04-08T17:03:27.530565Z",
     "iopub.status.idle": "2022-04-08T17:03:28.310914Z",
     "shell.execute_reply": "2022-04-08T17:03:28.309500Z"
    },
    "papermill": {
     "duration": 0.98435,
     "end_time": "2022-04-08T17:03:28.311063",
     "exception": false,
     "start_time": "2022-04-08T17:03:27.326713",
     "status": "completed"
    },
    "tags": []
   },
   "outputs": [
    {
     "data": {
      "text/html": [
       "<table class=\"dataframe\">\n",
       "<caption>A grouped_df: 6 × 3</caption>\n",
       "<thead>\n",
       "\t<tr><th scope=col>weekday</th><th scope=col>user_type</th><th scope=col>n</th></tr>\n",
       "\t<tr><th scope=col>&lt;ord&gt;</th><th scope=col>&lt;chr&gt;</th><th scope=col>&lt;int&gt;</th></tr>\n",
       "</thead>\n",
       "<tbody>\n",
       "\t<tr><td>Sun</td><td>casual</td><td>438696</td></tr>\n",
       "\t<tr><td>Mon</td><td>casual</td><td>255721</td></tr>\n",
       "\t<tr><td>Tue</td><td>casual</td><td>241411</td></tr>\n",
       "\t<tr><td>Wed</td><td>casual</td><td>244425</td></tr>\n",
       "\t<tr><td>Thu</td><td>casual</td><td>250643</td></tr>\n",
       "\t<tr><td>Fri</td><td>casual</td><td>319288</td></tr>\n",
       "</tbody>\n",
       "</table>\n"
      ],
      "text/latex": [
       "A grouped\\_df: 6 × 3\n",
       "\\begin{tabular}{lll}\n",
       " weekday & user\\_type & n\\\\\n",
       " <ord> & <chr> & <int>\\\\\n",
       "\\hline\n",
       "\t Sun & casual & 438696\\\\\n",
       "\t Mon & casual & 255721\\\\\n",
       "\t Tue & casual & 241411\\\\\n",
       "\t Wed & casual & 244425\\\\\n",
       "\t Thu & casual & 250643\\\\\n",
       "\t Fri & casual & 319288\\\\\n",
       "\\end{tabular}\n"
      ],
      "text/markdown": [
       "\n",
       "A grouped_df: 6 × 3\n",
       "\n",
       "| weekday &lt;ord&gt; | user_type &lt;chr&gt; | n &lt;int&gt; |\n",
       "|---|---|---|\n",
       "| Sun | casual | 438696 |\n",
       "| Mon | casual | 255721 |\n",
       "| Tue | casual | 241411 |\n",
       "| Wed | casual | 244425 |\n",
       "| Thu | casual | 250643 |\n",
       "| Fri | casual | 319288 |\n",
       "\n"
      ],
      "text/plain": [
       "  weekday user_type n     \n",
       "1 Sun     casual    438696\n",
       "2 Mon     casual    255721\n",
       "3 Tue     casual    241411\n",
       "4 Wed     casual    244425\n",
       "5 Thu     casual    250643\n",
       "6 Fri     casual    319288"
      ]
     },
     "metadata": {},
     "output_type": "display_data"
    },
    {
     "data": {
      "image/png": "[encoded data removed]"
     },
     "metadata": {
      "image/png": {
       "height": 420,
       "width": 420
      }
     },
     "output_type": "display_data"
    }
   ],
   "source": [
    "df_weekdays <- bike_share %>% \n",
    "  select(user_type, weekday) %>% \n",
    "  group_by(weekday, user_type) %>% \n",
    "  count() %>% \n",
    "  arrange(user_type)\n",
    "\n",
    "head(df_weekdays)\n",
    "\n",
    "# Visualizing the data\n",
    "ggplot(df_weekdays, aes(weekday, y=n, fill = weekday)) +\n",
    "  geom_col(position = \"dodge\") +\n",
    "  facet_wrap(~user_type) +\n",
    "  labs(title = \"Number of Rides Per Weekday\",\n",
    "       x = 'Weekdays',\n",
    "       y = 'Count')"
   ]
  },
  {
   "cell_type": "markdown",
   "id": "c4faabbb",
   "metadata": {
    "papermill": {
     "duration": 0.208437,
     "end_time": "2022-04-08T17:03:28.757646",
     "exception": false,
     "start_time": "2022-04-08T17:03:28.549209",
     "status": "completed"
    },
    "tags": []
   },
   "source": [
    "### Getting the number of rides for each hour of the day"
   ]
  },
  {
   "cell_type": "code",
   "execution_count": 24,
   "id": "f8604c18",
   "metadata": {
    "execution": {
     "iopub.execute_input": "2022-04-08T17:03:29.179195Z",
     "iopub.status.busy": "2022-04-08T17:03:29.176959Z",
     "iopub.status.idle": "2022-04-08T17:03:31.624198Z",
     "shell.execute_reply": "2022-04-08T17:03:31.623505Z"
    },
    "papermill": {
     "duration": 2.65745,
     "end_time": "2022-04-08T17:03:31.624360",
     "exception": false,
     "start_time": "2022-04-08T17:03:28.966910",
     "status": "completed"
    },
    "tags": []
   },
   "outputs": [
    {
     "data": {
      "text/html": [
       "<table class=\"dataframe\">\n",
       "<caption>A grouped_df: 6 × 3</caption>\n",
       "<thead>\n",
       "\t<tr><th scope=col>hour</th><th scope=col>user_type</th><th scope=col>n</th></tr>\n",
       "\t<tr><th scope=col>&lt;dbl&gt;</th><th scope=col>&lt;chr&gt;</th><th scope=col>&lt;int&gt;</th></tr>\n",
       "</thead>\n",
       "<tbody>\n",
       "\t<tr><td>0</td><td>casual</td><td>47310</td></tr>\n",
       "\t<tr><td>1</td><td>casual</td><td>34291</td></tr>\n",
       "\t<tr><td>2</td><td>casual</td><td>21979</td></tr>\n",
       "\t<tr><td>3</td><td>casual</td><td>11886</td></tr>\n",
       "\t<tr><td>4</td><td>casual</td><td> 8124</td></tr>\n",
       "\t<tr><td>5</td><td>casual</td><td>10438</td></tr>\n",
       "</tbody>\n",
       "</table>\n"
      ],
      "text/latex": [
       "A grouped\\_df: 6 × 3\n",
       "\\begin{tabular}{lll}\n",
       " hour & user\\_type & n\\\\\n",
       " <dbl> & <chr> & <int>\\\\\n",
       "\\hline\n",
       "\t 0 & casual & 47310\\\\\n",
       "\t 1 & casual & 34291\\\\\n",
       "\t 2 & casual & 21979\\\\\n",
       "\t 3 & casual & 11886\\\\\n",
       "\t 4 & casual &  8124\\\\\n",
       "\t 5 & casual & 10438\\\\\n",
       "\\end{tabular}\n"
      ],
      "text/markdown": [
       "\n",
       "A grouped_df: 6 × 3\n",
       "\n",
       "| hour &lt;dbl&gt; | user_type &lt;chr&gt; | n &lt;int&gt; |\n",
       "|---|---|---|\n",
       "| 0 | casual | 47310 |\n",
       "| 1 | casual | 34291 |\n",
       "| 2 | casual | 21979 |\n",
       "| 3 | casual | 11886 |\n",
       "| 4 | casual |  8124 |\n",
       "| 5 | casual | 10438 |\n",
       "\n"
      ],
      "text/plain": [
       "  hour user_type n    \n",
       "1 0    casual    47310\n",
       "2 1    casual    34291\n",
       "3 2    casual    21979\n",
       "4 3    casual    11886\n",
       "5 4    casual     8124\n",
       "6 5    casual    10438"
      ]
     },
     "metadata": {},
     "output_type": "display_data"
    },
    {
     "data": {
      "image/png": "[encoded data removed]"
     },
     "metadata": {
      "image/png": {
       "height": 420,
       "width": 420
      }
     },
     "output_type": "display_data"
    }
   ],
   "source": [
    "df_hour <- bike_share %>% \n",
    "  select(hour, user_type) %>% \n",
    "  group_by(hour, user_type) %>% \n",
    "  count() %>% \n",
    "  arrange(user_type)\n",
    "\n",
    "head(df_hour)\n",
    "\n",
    "# visualizing the data\n",
    "ggplot(df_hour, aes(hour, n, fill = hour)) +\n",
    "  geom_col() +\n",
    "  facet_wrap(~user_type) +\n",
    "  labs(title = 'Frequency of rides in each hour of the Day',\n",
    "       x = 'Hour of the Day',\n",
    "       y = 'Count of Rides')"
   ]
  },
  {
   "cell_type": "code",
   "execution_count": 25,
   "id": "f3cd2c4d",
   "metadata": {
    "execution": {
     "iopub.execute_input": "2022-04-08T17:03:32.134392Z",
     "iopub.status.busy": "2022-04-08T17:03:32.132524Z",
     "iopub.status.idle": "2022-04-08T17:03:49.104633Z",
     "shell.execute_reply": "2022-04-08T17:03:49.102549Z"
    },
    "papermill": {
     "duration": 17.229034,
     "end_time": "2022-04-08T17:03:49.104862",
     "exception": false,
     "start_time": "2022-04-08T17:03:31.875828",
     "status": "completed"
    },
    "tags": []
   },
   "outputs": [
    {
     "data": {
      "text/html": [
       "<table class=\"dataframe\">\n",
       "<caption>A tibble: 1 × 1</caption>\n",
       "<thead>\n",
       "\t<tr><th scope=col>mean_duration</th></tr>\n",
       "\t<tr><th scope=col>&lt;drtn&gt;</th></tr>\n",
       "</thead>\n",
       "<tbody>\n",
       "\t<tr><td>21.49907 mins</td></tr>\n",
       "</tbody>\n",
       "</table>\n"
      ],
      "text/latex": [
       "A tibble: 1 × 1\n",
       "\\begin{tabular}{l}\n",
       " mean\\_duration\\\\\n",
       " <drtn>\\\\\n",
       "\\hline\n",
       "\t 21.49907 mins\\\\\n",
       "\\end{tabular}\n"
      ],
      "text/markdown": [
       "\n",
       "A tibble: 1 × 1\n",
       "\n",
       "| mean_duration &lt;drtn&gt; |\n",
       "|---|\n",
       "| 21.49907 mins |\n",
       "\n"
      ],
      "text/plain": [
       "  mean_duration\n",
       "1 21.49907 mins"
      ]
     },
     "metadata": {},
     "output_type": "display_data"
    },
    {
     "data": {
      "text/html": [
       "<table class=\"dataframe\">\n",
       "<caption>A tibble: 1 × 1</caption>\n",
       "<thead>\n",
       "\t<tr><th scope=col>mean_duration</th></tr>\n",
       "\t<tr><th scope=col>&lt;drtn&gt;</th></tr>\n",
       "</thead>\n",
       "<tbody>\n",
       "\t<tr><td>31.39289 mins</td></tr>\n",
       "</tbody>\n",
       "</table>\n"
      ],
      "text/latex": [
       "A tibble: 1 × 1\n",
       "\\begin{tabular}{l}\n",
       " mean\\_duration\\\\\n",
       " <drtn>\\\\\n",
       "\\hline\n",
       "\t 31.39289 mins\\\\\n",
       "\\end{tabular}\n"
      ],
      "text/markdown": [
       "\n",
       "A tibble: 1 × 1\n",
       "\n",
       "| mean_duration &lt;drtn&gt; |\n",
       "|---|\n",
       "| 31.39289 mins |\n",
       "\n"
      ],
      "text/plain": [
       "  mean_duration\n",
       "1 31.39289 mins"
      ]
     },
     "metadata": {},
     "output_type": "display_data"
    },
    {
     "data": {
      "text/html": [
       "<table class=\"dataframe\">\n",
       "<caption>A tibble: 1 × 1</caption>\n",
       "<thead>\n",
       "\t<tr><th scope=col>mean_duration</th></tr>\n",
       "\t<tr><th scope=col>&lt;drtn&gt;</th></tr>\n",
       "</thead>\n",
       "<tbody>\n",
       "\t<tr><td>13.37472 mins</td></tr>\n",
       "</tbody>\n",
       "</table>\n"
      ],
      "text/latex": [
       "A tibble: 1 × 1\n",
       "\\begin{tabular}{l}\n",
       " mean\\_duration\\\\\n",
       " <drtn>\\\\\n",
       "\\hline\n",
       "\t 13.37472 mins\\\\\n",
       "\\end{tabular}\n"
      ],
      "text/markdown": [
       "\n",
       "A tibble: 1 × 1\n",
       "\n",
       "| mean_duration &lt;drtn&gt; |\n",
       "|---|\n",
       "| 13.37472 mins |\n",
       "\n"
      ],
      "text/plain": [
       "  mean_duration\n",
       "1 13.37472 mins"
      ]
     },
     "metadata": {},
     "output_type": "display_data"
    }
   ],
   "source": [
    "#finding the mean duration\n",
    "bike_share %>% \n",
    "  select(user_type, duration) %>% \n",
    "  summarise(mean_duration = mean(duration))\n",
    "\n",
    "# Creating a dataframe for only casual riders\n",
    "duration_casual <- bike_share %>% \n",
    "  filter(user_type == 'casual')\n",
    "\n",
    "# getting the average duration for casual riders \n",
    "duration_casual %>% \n",
    "  select(user_type, duration) %>% \n",
    "  summarise(mean_duration = mean(duration))\n",
    "\n",
    "# Creating a dataframe for only member riders\n",
    "duration_member <- bike_share %>% \n",
    "  filter(user_type == 'member')\n",
    "\n",
    "# getting the average duration for member riders\n",
    "duration_member %>% \n",
    "  select(user_type, duration) %>% \n",
    "  summarise(mean_duration = mean(duration))\n",
    "\n",
    "mean_duration <- bike_share %>% \n",
    "  group_by(user_type) %>% \n",
    "  summarise(mean_time = mean(duration))"
   ]
  },
  {
   "cell_type": "markdown",
   "id": "fc3a9df9",
   "metadata": {
    "papermill": {
     "duration": 0.226587,
     "end_time": "2022-04-08T17:03:49.553584",
     "exception": false,
     "start_time": "2022-04-08T17:03:49.326997",
     "status": "completed"
    },
    "tags": []
   },
   "source": [
    "\n",
    "* Mean duration of ride is 21.6 mins\n",
    "* Mean duration for Casual riders -> 31.4mins\n",
    "* Mean duration for Member riders -> 13.4mins\n"
   ]
  },
  {
   "cell_type": "code",
   "execution_count": 26,
   "id": "c4b45657",
   "metadata": {
    "execution": {
     "iopub.execute_input": "2022-04-08T17:03:50.014559Z",
     "iopub.status.busy": "2022-04-08T17:03:50.012768Z",
     "iopub.status.idle": "2022-04-08T17:03:50.305352Z",
     "shell.execute_reply": "2022-04-08T17:03:50.303603Z"
    },
    "papermill": {
     "duration": 0.52873,
     "end_time": "2022-04-08T17:03:50.305509",
     "exception": false,
     "start_time": "2022-04-08T17:03:49.776779",
     "status": "completed"
    },
    "tags": []
   },
   "outputs": [
    {
     "name": "stderr",
     "output_type": "stream",
     "text": [
      "Don't know how to automatically pick scale for object of type difftime. Defaulting to continuous.\n",
      "\n"
     ]
    },
    {
     "data": {
      "image/png": "[encoded data removed]"
     },
     "metadata": {
      "image/png": {
       "height": 420,
       "width": 420
      }
     },
     "output_type": "display_data"
    }
   ],
   "source": [
    "# visualizing the mean duration for each user type\n",
    "ggplot(mean_duration, aes(user_type, mean_time,\n",
    "                          fill = user_type)) +\n",
    "  geom_col() +\n",
    "  labs(title = 'Mean Time Travelled by User',\n",
    "       x = 'User',\n",
    "       y = 'Mean time travelled in mins')"
   ]
  },
  {
   "cell_type": "markdown",
   "id": "499e614e",
   "metadata": {
    "papermill": {
     "duration": 0.236301,
     "end_time": "2022-04-08T17:03:50.773323",
     "exception": false,
     "start_time": "2022-04-08T17:03:50.537022",
     "status": "completed"
    },
    "tags": []
   },
   "source": [
    "## PHASE 5 - Share\n",
    "\n",
    "### Conclusions:\n",
    "\n",
    "* Casual riders make more use of docked bike than bike share members who makes more use of classic bikes.\n",
    "* Highest activity during summer - Casual and member riders are seen to be more active between July and September\n",
    "* From the analysis above, casual riders are seen to be very active during the weekends (Saturday and Sunday) indicating that they probably use this service for leisure. While members activity is evenly distributed across the week indicating that they might be using the bike share service as a means of transportation to work on a daily basis (we'll need more data to support this).\n",
    "* Casual and member riders are usually seen to use the service more in the evening period.\n",
    "* Casual riders average ride time is three times of that of members\n",
    "\n",
    "### Recommendations\n",
    "\n",
    "* Discounts should be given on weekends to casual riders when they use the bike share service most.\n",
    "\n",
    "* Ads could also be created outlining the benefits of resorting to using bikes to commute to work on a daily basis - like how it is a form of exercise and helps maintain good health and also how it contributes to maintaining a green environment.\n",
    "\n",
    "* Since more of the casual riders make more use of docked bikes, plans on getting more docked bikes in place should be considered.\n",
    "\n"
   ]
  },
  {
   "cell_type": "markdown",
   "id": "1b92a6ac",
   "metadata": {
    "papermill": {
     "duration": 0.226188,
     "end_time": "2022-04-08T17:03:51.232148",
     "exception": false,
     "start_time": "2022-04-08T17:03:51.005960",
     "status": "completed"
    },
    "tags": []
   },
   "source": []
  }
 ],
 "metadata": {
  "kernelspec": {
   "display_name": "R",
   "language": "R",
   "name": "ir"
  },
  "language_info": {
   "codemirror_mode": "r",
   "file_extension": ".r",
   "mimetype": "text/x-r-source",
   "name": "R",
   "pygments_lexer": "r",
   "version": "4.0.5"
  },
  "papermill": {
   "default_parameters": {},
   "duration": 329.416898,
   "end_time": "2022-04-08T17:03:51.771876",
   "environment_variables": {},
   "exception": null,
   "input_path": "__notebook__.ipynb",
   "output_path": "__notebook__.ipynb",
   "parameters": {},
   "start_time": "2022-04-08T16:58:22.354978",
   "version": "2.3.3"
  }
 },
 "nbformat": 4,
 "nbformat_minor": 5
}
